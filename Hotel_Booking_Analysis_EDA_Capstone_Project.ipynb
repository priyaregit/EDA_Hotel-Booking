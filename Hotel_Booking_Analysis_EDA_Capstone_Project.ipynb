{
  "nbformat": 4,
  "nbformat_minor": 0,
  "metadata": {
    "kernelspec": {
      "display_name": "Python 3",
      "language": "python",
      "name": "python3"
    },
    "language_info": {
      "codemirror_mode": {
        "name": "ipython",
        "version": 3
      },
      "file_extension": ".py",
      "mimetype": "text/x-python",
      "name": "python",
      "nbconvert_exporter": "python",
      "pygments_lexer": "ipython3",
      "version": "3.6.6"
    },
    "colab": {
      "name": "Hotel Booking Analysis - EDA Capstone Project.ipynb",
      "provenance": [],
      "collapsed_sections": [],
      "include_colab_link": true
    }
  },
  "cells": [
    {
      "cell_type": "markdown",
      "metadata": {
        "id": "view-in-github",
        "colab_type": "text"
      },
      "source": [
        "<a href=\"https://colab.research.google.com/github/priyaregit/EDA_Hotel-Booking/blob/main/Hotel_Booking_Analysis_EDA_Capstone_Project.ipynb\" target=\"_parent\"><img src=\"https://colab.research.google.com/assets/colab-badge.svg\" alt=\"Open In Colab\"/></a>"
      ]
    },
    {
      "cell_type": "markdown",
      "metadata": {
        "id": "Y06xIdG26kRF"
      },
      "source": [
        "## <b> Have you ever wondered when the best time of year to book a hotel room is? Or the optimal length of stay in order to get the best daily rate? What if you wanted to predict whether or not a hotel was likely to receive a disproportionately high number of special requests? This hotel booking dataset can help you explore those questions!\n",
        "\n",
        "## <b>This data set contains booking information for a city hotel and a resort hotel, and includes information such as when the booking was made, length of stay, the number of adults, children, and/or babies, and the number of available parking spaces, among other things. All personally identifying information has been removed from the data. </b>\n",
        "\n",
        "## <b> Explore and analyze the data to discover important factors that govern the bookings. </b>"
      ]
    },
    {
      "cell_type": "code",
      "source": [
        "# Loading Google Drive\n",
        "\n",
        "from google.colab import drive\n",
        "drive.mount('/content/drive')"
      ],
      "metadata": {
        "colab": {
          "base_uri": "https://localhost:8080/"
        },
        "id": "hk2Cw-tyJiM0",
        "outputId": "b96a08e6-a17a-47f5-c36a-96b29f84b598"
      },
      "execution_count": 2,
      "outputs": [
        {
          "output_type": "stream",
          "name": "stdout",
          "text": [
            "Mounted at /content/drive\n"
          ]
        }
      ]
    },
    {
      "cell_type": "code",
      "source": [
        "# Importing Pandas and Numpy libraries for the purpose of data analysis\n",
        "import pandas as pd\n",
        "import numpy as np\n",
        "\n",
        "# Importing Matplotlib and Seaborn libraries for data visualization\n",
        "import matplotlib.pyplot as plt\n",
        "import seaborn as sns\n",
        "%matplotlib inline \n",
        "\n",
        "# Importing warnings library to filter some warnings\n",
        "import warnings\n",
        "warnings.filterwarnings(\"ignore\")"
      ],
      "metadata": {
        "id": "E12epxteJ6R0"
      },
      "execution_count": 3,
      "outputs": []
    },
    {
      "cell_type": "markdown",
      "source": [
        "### Let us first read the dataset from Google drive"
      ],
      "metadata": {
        "id": "YOfwtfFsZk4R"
      }
    },
    {
      "cell_type": "code",
      "metadata": {
        "id": "dByMsuzT8Tnw"
      },
      "source": [
        "# Reading the dataset from Google drive and storing it in the dataframe: hotel_booking\n",
        "\n",
        "hotel_booking = pd.read_csv('/content/drive/MyDrive/Colab Notebooks/Capstone Projects/EDA/Data/Hotel Bookings.csv')"
      ],
      "execution_count": 4,
      "outputs": []
    },
    {
      "cell_type": "markdown",
      "source": [
        "### We must perform some basic checks on the dataset such as:\n",
        "\n",
        "* ### Checking the shape of dataframe i.e. number of rows and columns\n",
        "\n",
        "* ### Checking for the various variables/features of our dataset\n",
        "\n",
        "* ### Checking the data type of each of the features\n",
        "\n",
        "* ### Checking for the missing values/ null values\n",
        "\n",
        "### These checks would give us a baseline understanding of the available data"
      ],
      "metadata": {
        "id": "df_nfdKHU1zy"
      }
    },
    {
      "cell_type": "code",
      "source": [
        "# Having a look at the first 5 rows/observations from our data\n",
        "\n",
        "hotel_booking.head()"
      ],
      "metadata": {
        "colab": {
          "base_uri": "https://localhost:8080/",
          "height": 386
        },
        "id": "CgXOPityKFdS",
        "outputId": "d12c719f-57dd-4aee-cc04-e243ecb3934e"
      },
      "execution_count": null,
      "outputs": [
        {
          "output_type": "execute_result",
          "data": {
            "text/plain": [
              "          hotel  is_canceled  lead_time  arrival_date_year arrival_date_month  \\\n",
              "0  Resort Hotel            0        342               2015               July   \n",
              "1  Resort Hotel            0        737               2015               July   \n",
              "2  Resort Hotel            0          7               2015               July   \n",
              "3  Resort Hotel            0         13               2015               July   \n",
              "4  Resort Hotel            0         14               2015               July   \n",
              "\n",
              "   arrival_date_week_number  arrival_date_day_of_month  \\\n",
              "0                        27                          1   \n",
              "1                        27                          1   \n",
              "2                        27                          1   \n",
              "3                        27                          1   \n",
              "4                        27                          1   \n",
              "\n",
              "   stays_in_weekend_nights  stays_in_week_nights  adults  ...  deposit_type  \\\n",
              "0                        0                     0       2  ...    No Deposit   \n",
              "1                        0                     0       2  ...    No Deposit   \n",
              "2                        0                     1       1  ...    No Deposit   \n",
              "3                        0                     1       1  ...    No Deposit   \n",
              "4                        0                     2       2  ...    No Deposit   \n",
              "\n",
              "   agent company days_in_waiting_list customer_type   adr  \\\n",
              "0    NaN     NaN                    0     Transient   0.0   \n",
              "1    NaN     NaN                    0     Transient   0.0   \n",
              "2    NaN     NaN                    0     Transient  75.0   \n",
              "3  304.0     NaN                    0     Transient  75.0   \n",
              "4  240.0     NaN                    0     Transient  98.0   \n",
              "\n",
              "   required_car_parking_spaces  total_of_special_requests  reservation_status  \\\n",
              "0                            0                          0           Check-Out   \n",
              "1                            0                          0           Check-Out   \n",
              "2                            0                          0           Check-Out   \n",
              "3                            0                          0           Check-Out   \n",
              "4                            0                          1           Check-Out   \n",
              "\n",
              "  reservation_status_date  \n",
              "0              2015-07-01  \n",
              "1              2015-07-01  \n",
              "2              2015-07-02  \n",
              "3              2015-07-02  \n",
              "4              2015-07-03  \n",
              "\n",
              "[5 rows x 32 columns]"
            ],
            "text/html": [
              "\n",
              "  <div id=\"df-7e7f6fcb-3616-487d-8790-748bb56373ad\">\n",
              "    <div class=\"colab-df-container\">\n",
              "      <div>\n",
              "<style scoped>\n",
              "    .dataframe tbody tr th:only-of-type {\n",
              "        vertical-align: middle;\n",
              "    }\n",
              "\n",
              "    .dataframe tbody tr th {\n",
              "        vertical-align: top;\n",
              "    }\n",
              "\n",
              "    .dataframe thead th {\n",
              "        text-align: right;\n",
              "    }\n",
              "</style>\n",
              "<table border=\"1\" class=\"dataframe\">\n",
              "  <thead>\n",
              "    <tr style=\"text-align: right;\">\n",
              "      <th></th>\n",
              "      <th>hotel</th>\n",
              "      <th>is_canceled</th>\n",
              "      <th>lead_time</th>\n",
              "      <th>arrival_date_year</th>\n",
              "      <th>arrival_date_month</th>\n",
              "      <th>arrival_date_week_number</th>\n",
              "      <th>arrival_date_day_of_month</th>\n",
              "      <th>stays_in_weekend_nights</th>\n",
              "      <th>stays_in_week_nights</th>\n",
              "      <th>adults</th>\n",
              "      <th>...</th>\n",
              "      <th>deposit_type</th>\n",
              "      <th>agent</th>\n",
              "      <th>company</th>\n",
              "      <th>days_in_waiting_list</th>\n",
              "      <th>customer_type</th>\n",
              "      <th>adr</th>\n",
              "      <th>required_car_parking_spaces</th>\n",
              "      <th>total_of_special_requests</th>\n",
              "      <th>reservation_status</th>\n",
              "      <th>reservation_status_date</th>\n",
              "    </tr>\n",
              "  </thead>\n",
              "  <tbody>\n",
              "    <tr>\n",
              "      <th>0</th>\n",
              "      <td>Resort Hotel</td>\n",
              "      <td>0</td>\n",
              "      <td>342</td>\n",
              "      <td>2015</td>\n",
              "      <td>July</td>\n",
              "      <td>27</td>\n",
              "      <td>1</td>\n",
              "      <td>0</td>\n",
              "      <td>0</td>\n",
              "      <td>2</td>\n",
              "      <td>...</td>\n",
              "      <td>No Deposit</td>\n",
              "      <td>NaN</td>\n",
              "      <td>NaN</td>\n",
              "      <td>0</td>\n",
              "      <td>Transient</td>\n",
              "      <td>0.0</td>\n",
              "      <td>0</td>\n",
              "      <td>0</td>\n",
              "      <td>Check-Out</td>\n",
              "      <td>2015-07-01</td>\n",
              "    </tr>\n",
              "    <tr>\n",
              "      <th>1</th>\n",
              "      <td>Resort Hotel</td>\n",
              "      <td>0</td>\n",
              "      <td>737</td>\n",
              "      <td>2015</td>\n",
              "      <td>July</td>\n",
              "      <td>27</td>\n",
              "      <td>1</td>\n",
              "      <td>0</td>\n",
              "      <td>0</td>\n",
              "      <td>2</td>\n",
              "      <td>...</td>\n",
              "      <td>No Deposit</td>\n",
              "      <td>NaN</td>\n",
              "      <td>NaN</td>\n",
              "      <td>0</td>\n",
              "      <td>Transient</td>\n",
              "      <td>0.0</td>\n",
              "      <td>0</td>\n",
              "      <td>0</td>\n",
              "      <td>Check-Out</td>\n",
              "      <td>2015-07-01</td>\n",
              "    </tr>\n",
              "    <tr>\n",
              "      <th>2</th>\n",
              "      <td>Resort Hotel</td>\n",
              "      <td>0</td>\n",
              "      <td>7</td>\n",
              "      <td>2015</td>\n",
              "      <td>July</td>\n",
              "      <td>27</td>\n",
              "      <td>1</td>\n",
              "      <td>0</td>\n",
              "      <td>1</td>\n",
              "      <td>1</td>\n",
              "      <td>...</td>\n",
              "      <td>No Deposit</td>\n",
              "      <td>NaN</td>\n",
              "      <td>NaN</td>\n",
              "      <td>0</td>\n",
              "      <td>Transient</td>\n",
              "      <td>75.0</td>\n",
              "      <td>0</td>\n",
              "      <td>0</td>\n",
              "      <td>Check-Out</td>\n",
              "      <td>2015-07-02</td>\n",
              "    </tr>\n",
              "    <tr>\n",
              "      <th>3</th>\n",
              "      <td>Resort Hotel</td>\n",
              "      <td>0</td>\n",
              "      <td>13</td>\n",
              "      <td>2015</td>\n",
              "      <td>July</td>\n",
              "      <td>27</td>\n",
              "      <td>1</td>\n",
              "      <td>0</td>\n",
              "      <td>1</td>\n",
              "      <td>1</td>\n",
              "      <td>...</td>\n",
              "      <td>No Deposit</td>\n",
              "      <td>304.0</td>\n",
              "      <td>NaN</td>\n",
              "      <td>0</td>\n",
              "      <td>Transient</td>\n",
              "      <td>75.0</td>\n",
              "      <td>0</td>\n",
              "      <td>0</td>\n",
              "      <td>Check-Out</td>\n",
              "      <td>2015-07-02</td>\n",
              "    </tr>\n",
              "    <tr>\n",
              "      <th>4</th>\n",
              "      <td>Resort Hotel</td>\n",
              "      <td>0</td>\n",
              "      <td>14</td>\n",
              "      <td>2015</td>\n",
              "      <td>July</td>\n",
              "      <td>27</td>\n",
              "      <td>1</td>\n",
              "      <td>0</td>\n",
              "      <td>2</td>\n",
              "      <td>2</td>\n",
              "      <td>...</td>\n",
              "      <td>No Deposit</td>\n",
              "      <td>240.0</td>\n",
              "      <td>NaN</td>\n",
              "      <td>0</td>\n",
              "      <td>Transient</td>\n",
              "      <td>98.0</td>\n",
              "      <td>0</td>\n",
              "      <td>1</td>\n",
              "      <td>Check-Out</td>\n",
              "      <td>2015-07-03</td>\n",
              "    </tr>\n",
              "  </tbody>\n",
              "</table>\n",
              "<p>5 rows × 32 columns</p>\n",
              "</div>\n",
              "      <button class=\"colab-df-convert\" onclick=\"convertToInteractive('df-7e7f6fcb-3616-487d-8790-748bb56373ad')\"\n",
              "              title=\"Convert this dataframe to an interactive table.\"\n",
              "              style=\"display:none;\">\n",
              "        \n",
              "  <svg xmlns=\"http://www.w3.org/2000/svg\" height=\"24px\"viewBox=\"0 0 24 24\"\n",
              "       width=\"24px\">\n",
              "    <path d=\"M0 0h24v24H0V0z\" fill=\"none\"/>\n",
              "    <path d=\"M18.56 5.44l.94 2.06.94-2.06 2.06-.94-2.06-.94-.94-2.06-.94 2.06-2.06.94zm-11 1L8.5 8.5l.94-2.06 2.06-.94-2.06-.94L8.5 2.5l-.94 2.06-2.06.94zm10 10l.94 2.06.94-2.06 2.06-.94-2.06-.94-.94-2.06-.94 2.06-2.06.94z\"/><path d=\"M17.41 7.96l-1.37-1.37c-.4-.4-.92-.59-1.43-.59-.52 0-1.04.2-1.43.59L10.3 9.45l-7.72 7.72c-.78.78-.78 2.05 0 2.83L4 21.41c.39.39.9.59 1.41.59.51 0 1.02-.2 1.41-.59l7.78-7.78 2.81-2.81c.8-.78.8-2.07 0-2.86zM5.41 20L4 18.59l7.72-7.72 1.47 1.35L5.41 20z\"/>\n",
              "  </svg>\n",
              "      </button>\n",
              "      \n",
              "  <style>\n",
              "    .colab-df-container {\n",
              "      display:flex;\n",
              "      flex-wrap:wrap;\n",
              "      gap: 12px;\n",
              "    }\n",
              "\n",
              "    .colab-df-convert {\n",
              "      background-color: #E8F0FE;\n",
              "      border: none;\n",
              "      border-radius: 50%;\n",
              "      cursor: pointer;\n",
              "      display: none;\n",
              "      fill: #1967D2;\n",
              "      height: 32px;\n",
              "      padding: 0 0 0 0;\n",
              "      width: 32px;\n",
              "    }\n",
              "\n",
              "    .colab-df-convert:hover {\n",
              "      background-color: #E2EBFA;\n",
              "      box-shadow: 0px 1px 2px rgba(60, 64, 67, 0.3), 0px 1px 3px 1px rgba(60, 64, 67, 0.15);\n",
              "      fill: #174EA6;\n",
              "    }\n",
              "\n",
              "    [theme=dark] .colab-df-convert {\n",
              "      background-color: #3B4455;\n",
              "      fill: #D2E3FC;\n",
              "    }\n",
              "\n",
              "    [theme=dark] .colab-df-convert:hover {\n",
              "      background-color: #434B5C;\n",
              "      box-shadow: 0px 1px 3px 1px rgba(0, 0, 0, 0.15);\n",
              "      filter: drop-shadow(0px 1px 2px rgba(0, 0, 0, 0.3));\n",
              "      fill: #FFFFFF;\n",
              "    }\n",
              "  </style>\n",
              "\n",
              "      <script>\n",
              "        const buttonEl =\n",
              "          document.querySelector('#df-7e7f6fcb-3616-487d-8790-748bb56373ad button.colab-df-convert');\n",
              "        buttonEl.style.display =\n",
              "          google.colab.kernel.accessAllowed ? 'block' : 'none';\n",
              "\n",
              "        async function convertToInteractive(key) {\n",
              "          const element = document.querySelector('#df-7e7f6fcb-3616-487d-8790-748bb56373ad');\n",
              "          const dataTable =\n",
              "            await google.colab.kernel.invokeFunction('convertToInteractive',\n",
              "                                                     [key], {});\n",
              "          if (!dataTable) return;\n",
              "\n",
              "          const docLinkHtml = 'Like what you see? Visit the ' +\n",
              "            '<a target=\"_blank\" href=https://colab.research.google.com/notebooks/data_table.ipynb>data table notebook</a>'\n",
              "            + ' to learn more about interactive tables.';\n",
              "          element.innerHTML = '';\n",
              "          dataTable['output_type'] = 'display_data';\n",
              "          await google.colab.output.renderOutput(dataTable, element);\n",
              "          const docLink = document.createElement('div');\n",
              "          docLink.innerHTML = docLinkHtml;\n",
              "          element.appendChild(docLink);\n",
              "        }\n",
              "      </script>\n",
              "    </div>\n",
              "  </div>\n",
              "  "
            ]
          },
          "metadata": {},
          "execution_count": 117
        }
      ]
    },
    {
      "cell_type": "code",
      "source": [
        "# Checking the last 3 rows from the data\n",
        "\n",
        "hotel_booking.tail(3)   "
      ],
      "metadata": {
        "colab": {
          "base_uri": "https://localhost:8080/",
          "height": 289
        },
        "id": "7oNL_qG9YSw7",
        "outputId": "0da8ace2-166d-4bde-c2a3-4558017b5e12"
      },
      "execution_count": null,
      "outputs": [
        {
          "output_type": "execute_result",
          "data": {
            "text/plain": [
              "             hotel  is_canceled  lead_time  arrival_date_year  \\\n",
              "119387  City Hotel            0         34               2017   \n",
              "119388  City Hotel            0        109               2017   \n",
              "119389  City Hotel            0        205               2017   \n",
              "\n",
              "       arrival_date_month  arrival_date_week_number  \\\n",
              "119387             August                        35   \n",
              "119388             August                        35   \n",
              "119389             August                        35   \n",
              "\n",
              "        arrival_date_day_of_month  stays_in_weekend_nights  \\\n",
              "119387                         31                        2   \n",
              "119388                         31                        2   \n",
              "119389                         29                        2   \n",
              "\n",
              "        stays_in_week_nights  adults  ...  deposit_type  agent company  \\\n",
              "119387                     5       2  ...    No Deposit    9.0     NaN   \n",
              "119388                     5       2  ...    No Deposit   89.0     NaN   \n",
              "119389                     7       2  ...    No Deposit    9.0     NaN   \n",
              "\n",
              "       days_in_waiting_list customer_type     adr  \\\n",
              "119387                    0     Transient  157.71   \n",
              "119388                    0     Transient  104.40   \n",
              "119389                    0     Transient  151.20   \n",
              "\n",
              "        required_car_parking_spaces  total_of_special_requests  \\\n",
              "119387                            0                          4   \n",
              "119388                            0                          0   \n",
              "119389                            0                          2   \n",
              "\n",
              "        reservation_status reservation_status_date  \n",
              "119387           Check-Out              2017-09-07  \n",
              "119388           Check-Out              2017-09-07  \n",
              "119389           Check-Out              2017-09-07  \n",
              "\n",
              "[3 rows x 32 columns]"
            ],
            "text/html": [
              "\n",
              "  <div id=\"df-cd306733-f763-4637-9d6a-46026bbec32c\">\n",
              "    <div class=\"colab-df-container\">\n",
              "      <div>\n",
              "<style scoped>\n",
              "    .dataframe tbody tr th:only-of-type {\n",
              "        vertical-align: middle;\n",
              "    }\n",
              "\n",
              "    .dataframe tbody tr th {\n",
              "        vertical-align: top;\n",
              "    }\n",
              "\n",
              "    .dataframe thead th {\n",
              "        text-align: right;\n",
              "    }\n",
              "</style>\n",
              "<table border=\"1\" class=\"dataframe\">\n",
              "  <thead>\n",
              "    <tr style=\"text-align: right;\">\n",
              "      <th></th>\n",
              "      <th>hotel</th>\n",
              "      <th>is_canceled</th>\n",
              "      <th>lead_time</th>\n",
              "      <th>arrival_date_year</th>\n",
              "      <th>arrival_date_month</th>\n",
              "      <th>arrival_date_week_number</th>\n",
              "      <th>arrival_date_day_of_month</th>\n",
              "      <th>stays_in_weekend_nights</th>\n",
              "      <th>stays_in_week_nights</th>\n",
              "      <th>adults</th>\n",
              "      <th>...</th>\n",
              "      <th>deposit_type</th>\n",
              "      <th>agent</th>\n",
              "      <th>company</th>\n",
              "      <th>days_in_waiting_list</th>\n",
              "      <th>customer_type</th>\n",
              "      <th>adr</th>\n",
              "      <th>required_car_parking_spaces</th>\n",
              "      <th>total_of_special_requests</th>\n",
              "      <th>reservation_status</th>\n",
              "      <th>reservation_status_date</th>\n",
              "    </tr>\n",
              "  </thead>\n",
              "  <tbody>\n",
              "    <tr>\n",
              "      <th>119387</th>\n",
              "      <td>City Hotel</td>\n",
              "      <td>0</td>\n",
              "      <td>34</td>\n",
              "      <td>2017</td>\n",
              "      <td>August</td>\n",
              "      <td>35</td>\n",
              "      <td>31</td>\n",
              "      <td>2</td>\n",
              "      <td>5</td>\n",
              "      <td>2</td>\n",
              "      <td>...</td>\n",
              "      <td>No Deposit</td>\n",
              "      <td>9.0</td>\n",
              "      <td>NaN</td>\n",
              "      <td>0</td>\n",
              "      <td>Transient</td>\n",
              "      <td>157.71</td>\n",
              "      <td>0</td>\n",
              "      <td>4</td>\n",
              "      <td>Check-Out</td>\n",
              "      <td>2017-09-07</td>\n",
              "    </tr>\n",
              "    <tr>\n",
              "      <th>119388</th>\n",
              "      <td>City Hotel</td>\n",
              "      <td>0</td>\n",
              "      <td>109</td>\n",
              "      <td>2017</td>\n",
              "      <td>August</td>\n",
              "      <td>35</td>\n",
              "      <td>31</td>\n",
              "      <td>2</td>\n",
              "      <td>5</td>\n",
              "      <td>2</td>\n",
              "      <td>...</td>\n",
              "      <td>No Deposit</td>\n",
              "      <td>89.0</td>\n",
              "      <td>NaN</td>\n",
              "      <td>0</td>\n",
              "      <td>Transient</td>\n",
              "      <td>104.40</td>\n",
              "      <td>0</td>\n",
              "      <td>0</td>\n",
              "      <td>Check-Out</td>\n",
              "      <td>2017-09-07</td>\n",
              "    </tr>\n",
              "    <tr>\n",
              "      <th>119389</th>\n",
              "      <td>City Hotel</td>\n",
              "      <td>0</td>\n",
              "      <td>205</td>\n",
              "      <td>2017</td>\n",
              "      <td>August</td>\n",
              "      <td>35</td>\n",
              "      <td>29</td>\n",
              "      <td>2</td>\n",
              "      <td>7</td>\n",
              "      <td>2</td>\n",
              "      <td>...</td>\n",
              "      <td>No Deposit</td>\n",
              "      <td>9.0</td>\n",
              "      <td>NaN</td>\n",
              "      <td>0</td>\n",
              "      <td>Transient</td>\n",
              "      <td>151.20</td>\n",
              "      <td>0</td>\n",
              "      <td>2</td>\n",
              "      <td>Check-Out</td>\n",
              "      <td>2017-09-07</td>\n",
              "    </tr>\n",
              "  </tbody>\n",
              "</table>\n",
              "<p>3 rows × 32 columns</p>\n",
              "</div>\n",
              "      <button class=\"colab-df-convert\" onclick=\"convertToInteractive('df-cd306733-f763-4637-9d6a-46026bbec32c')\"\n",
              "              title=\"Convert this dataframe to an interactive table.\"\n",
              "              style=\"display:none;\">\n",
              "        \n",
              "  <svg xmlns=\"http://www.w3.org/2000/svg\" height=\"24px\"viewBox=\"0 0 24 24\"\n",
              "       width=\"24px\">\n",
              "    <path d=\"M0 0h24v24H0V0z\" fill=\"none\"/>\n",
              "    <path d=\"M18.56 5.44l.94 2.06.94-2.06 2.06-.94-2.06-.94-.94-2.06-.94 2.06-2.06.94zm-11 1L8.5 8.5l.94-2.06 2.06-.94-2.06-.94L8.5 2.5l-.94 2.06-2.06.94zm10 10l.94 2.06.94-2.06 2.06-.94-2.06-.94-.94-2.06-.94 2.06-2.06.94z\"/><path d=\"M17.41 7.96l-1.37-1.37c-.4-.4-.92-.59-1.43-.59-.52 0-1.04.2-1.43.59L10.3 9.45l-7.72 7.72c-.78.78-.78 2.05 0 2.83L4 21.41c.39.39.9.59 1.41.59.51 0 1.02-.2 1.41-.59l7.78-7.78 2.81-2.81c.8-.78.8-2.07 0-2.86zM5.41 20L4 18.59l7.72-7.72 1.47 1.35L5.41 20z\"/>\n",
              "  </svg>\n",
              "      </button>\n",
              "      \n",
              "  <style>\n",
              "    .colab-df-container {\n",
              "      display:flex;\n",
              "      flex-wrap:wrap;\n",
              "      gap: 12px;\n",
              "    }\n",
              "\n",
              "    .colab-df-convert {\n",
              "      background-color: #E8F0FE;\n",
              "      border: none;\n",
              "      border-radius: 50%;\n",
              "      cursor: pointer;\n",
              "      display: none;\n",
              "      fill: #1967D2;\n",
              "      height: 32px;\n",
              "      padding: 0 0 0 0;\n",
              "      width: 32px;\n",
              "    }\n",
              "\n",
              "    .colab-df-convert:hover {\n",
              "      background-color: #E2EBFA;\n",
              "      box-shadow: 0px 1px 2px rgba(60, 64, 67, 0.3), 0px 1px 3px 1px rgba(60, 64, 67, 0.15);\n",
              "      fill: #174EA6;\n",
              "    }\n",
              "\n",
              "    [theme=dark] .colab-df-convert {\n",
              "      background-color: #3B4455;\n",
              "      fill: #D2E3FC;\n",
              "    }\n",
              "\n",
              "    [theme=dark] .colab-df-convert:hover {\n",
              "      background-color: #434B5C;\n",
              "      box-shadow: 0px 1px 3px 1px rgba(0, 0, 0, 0.15);\n",
              "      filter: drop-shadow(0px 1px 2px rgba(0, 0, 0, 0.3));\n",
              "      fill: #FFFFFF;\n",
              "    }\n",
              "  </style>\n",
              "\n",
              "      <script>\n",
              "        const buttonEl =\n",
              "          document.querySelector('#df-cd306733-f763-4637-9d6a-46026bbec32c button.colab-df-convert');\n",
              "        buttonEl.style.display =\n",
              "          google.colab.kernel.accessAllowed ? 'block' : 'none';\n",
              "\n",
              "        async function convertToInteractive(key) {\n",
              "          const element = document.querySelector('#df-cd306733-f763-4637-9d6a-46026bbec32c');\n",
              "          const dataTable =\n",
              "            await google.colab.kernel.invokeFunction('convertToInteractive',\n",
              "                                                     [key], {});\n",
              "          if (!dataTable) return;\n",
              "\n",
              "          const docLinkHtml = 'Like what you see? Visit the ' +\n",
              "            '<a target=\"_blank\" href=https://colab.research.google.com/notebooks/data_table.ipynb>data table notebook</a>'\n",
              "            + ' to learn more about interactive tables.';\n",
              "          element.innerHTML = '';\n",
              "          dataTable['output_type'] = 'display_data';\n",
              "          await google.colab.output.renderOutput(dataTable, element);\n",
              "          const docLink = document.createElement('div');\n",
              "          docLink.innerHTML = docLinkHtml;\n",
              "          element.appendChild(docLink);\n",
              "        }\n",
              "      </script>\n",
              "    </div>\n",
              "  </div>\n",
              "  "
            ]
          },
          "metadata": {},
          "execution_count": 118
        }
      ]
    },
    {
      "cell_type": "code",
      "source": [
        "# Checking the number of rows and columns in the dataset\n",
        "\n",
        "hotel_booking.shape"
      ],
      "metadata": {
        "colab": {
          "base_uri": "https://localhost:8080/"
        },
        "id": "IyWTq-gwKIf6",
        "outputId": "611caea8-7987-4016-836a-039ae7333f4d"
      },
      "execution_count": null,
      "outputs": [
        {
          "output_type": "execute_result",
          "data": {
            "text/plain": [
              "(119390, 32)"
            ]
          },
          "metadata": {},
          "execution_count": 119
        }
      ]
    },
    {
      "cell_type": "markdown",
      "source": [
        "### There are 119,390 rows and 32 columns in the dataset"
      ],
      "metadata": {
        "id": "d-jEKti_diQ_"
      }
    },
    {
      "cell_type": "code",
      "source": [
        "# Checking for information such as missing values and data type of all the columns \n",
        "\n",
        "hotel_booking.info()"
      ],
      "metadata": {
        "colab": {
          "base_uri": "https://localhost:8080/"
        },
        "id": "_p3iPJ41KJ3x",
        "outputId": "56b0f521-3f47-4681-9737-dc83517240ef"
      },
      "execution_count": null,
      "outputs": [
        {
          "output_type": "stream",
          "name": "stdout",
          "text": [
            "<class 'pandas.core.frame.DataFrame'>\n",
            "RangeIndex: 119390 entries, 0 to 119389\n",
            "Data columns (total 32 columns):\n",
            " #   Column                          Non-Null Count   Dtype  \n",
            "---  ------                          --------------   -----  \n",
            " 0   hotel                           119390 non-null  object \n",
            " 1   is_canceled                     119390 non-null  int64  \n",
            " 2   lead_time                       119390 non-null  int64  \n",
            " 3   arrival_date_year               119390 non-null  int64  \n",
            " 4   arrival_date_month              119390 non-null  object \n",
            " 5   arrival_date_week_number        119390 non-null  int64  \n",
            " 6   arrival_date_day_of_month       119390 non-null  int64  \n",
            " 7   stays_in_weekend_nights         119390 non-null  int64  \n",
            " 8   stays_in_week_nights            119390 non-null  int64  \n",
            " 9   adults                          119390 non-null  int64  \n",
            " 10  children                        119386 non-null  float64\n",
            " 11  babies                          119390 non-null  int64  \n",
            " 12  meal                            119390 non-null  object \n",
            " 13  country                         118902 non-null  object \n",
            " 14  market_segment                  119390 non-null  object \n",
            " 15  distribution_channel            119390 non-null  object \n",
            " 16  is_repeated_guest               119390 non-null  int64  \n",
            " 17  previous_cancellations          119390 non-null  int64  \n",
            " 18  previous_bookings_not_canceled  119390 non-null  int64  \n",
            " 19  reserved_room_type              119390 non-null  object \n",
            " 20  assigned_room_type              119390 non-null  object \n",
            " 21  booking_changes                 119390 non-null  int64  \n",
            " 22  deposit_type                    119390 non-null  object \n",
            " 23  agent                           103050 non-null  float64\n",
            " 24  company                         6797 non-null    float64\n",
            " 25  days_in_waiting_list            119390 non-null  int64  \n",
            " 26  customer_type                   119390 non-null  object \n",
            " 27  adr                             119390 non-null  float64\n",
            " 28  required_car_parking_spaces     119390 non-null  int64  \n",
            " 29  total_of_special_requests       119390 non-null  int64  \n",
            " 30  reservation_status              119390 non-null  object \n",
            " 31  reservation_status_date         119390 non-null  object \n",
            "dtypes: float64(4), int64(16), object(12)\n",
            "memory usage: 29.1+ MB\n"
          ]
        }
      ]
    },
    {
      "cell_type": "markdown",
      "source": [
        "### We find that there are 4 columns- children, country, agent and company- with missing/null values. We will deal with the issue of missing values a little later.\n",
        "\n",
        "### We also find that our data is of object, integer and float data types.\n",
        "\n",
        "### There are 20 columns with numeric data (integer and float data type) and 12 columns with categorical data. \n",
        "\n",
        "### However, on closer observation, we notice that the column 'reservation_status_date' which contains dates, is of object data type. We need to change its data type\n"
      ],
      "metadata": {
        "id": "9gAp04nYfYFD"
      }
    },
    {
      "cell_type": "code",
      "source": [
        "# Importing datetime module \n",
        "from datetime import datetime\n",
        "\n",
        "# Converting data type of the column 'reservation_status_date' from object to datetime\n",
        "hotel_booking['reservation_status_date'] =  pd.to_datetime(hotel_booking['reservation_status_date'], format=\"%Y-%m-%d\")"
      ],
      "metadata": {
        "id": "xhRT5nweg2wD"
      },
      "execution_count": 5,
      "outputs": []
    },
    {
      "cell_type": "markdown",
      "source": [
        "### Let us now have a quick statistical inspection of the numeric data"
      ],
      "metadata": {
        "id": "PmejC-lJEuup"
      }
    },
    {
      "cell_type": "code",
      "source": [
        "# Checking the key statistics of the all the columns with numeric data\n",
        "\n",
        "hotel_booking.describe()"
      ],
      "metadata": {
        "colab": {
          "base_uri": "https://localhost:8080/",
          "height": 364
        },
        "id": "FdPhgthMnuUd",
        "outputId": "c6ef0289-94d4-4432-e507-7924ba3d124d"
      },
      "execution_count": null,
      "outputs": [
        {
          "output_type": "execute_result",
          "data": {
            "text/plain": [
              "         is_canceled      lead_time  arrival_date_year  \\\n",
              "count  119390.000000  119390.000000      119390.000000   \n",
              "mean        0.370416     104.011416        2016.156554   \n",
              "std         0.482918     106.863097           0.707476   \n",
              "min         0.000000       0.000000        2015.000000   \n",
              "25%         0.000000      18.000000        2016.000000   \n",
              "50%         0.000000      69.000000        2016.000000   \n",
              "75%         1.000000     160.000000        2017.000000   \n",
              "max         1.000000     737.000000        2017.000000   \n",
              "\n",
              "       arrival_date_week_number  arrival_date_day_of_month  \\\n",
              "count             119390.000000              119390.000000   \n",
              "mean                  27.165173                  15.798241   \n",
              "std                   13.605138                   8.780829   \n",
              "min                    1.000000                   1.000000   \n",
              "25%                   16.000000                   8.000000   \n",
              "50%                   28.000000                  16.000000   \n",
              "75%                   38.000000                  23.000000   \n",
              "max                   53.000000                  31.000000   \n",
              "\n",
              "       stays_in_weekend_nights  stays_in_week_nights         adults  \\\n",
              "count            119390.000000         119390.000000  119390.000000   \n",
              "mean                  0.927599              2.500302       1.856403   \n",
              "std                   0.998613              1.908286       0.579261   \n",
              "min                   0.000000              0.000000       0.000000   \n",
              "25%                   0.000000              1.000000       2.000000   \n",
              "50%                   1.000000              2.000000       2.000000   \n",
              "75%                   2.000000              3.000000       2.000000   \n",
              "max                  19.000000             50.000000      55.000000   \n",
              "\n",
              "            children         babies  is_repeated_guest  \\\n",
              "count  119386.000000  119390.000000      119390.000000   \n",
              "mean        0.103890       0.007949           0.031912   \n",
              "std         0.398561       0.097436           0.175767   \n",
              "min         0.000000       0.000000           0.000000   \n",
              "25%         0.000000       0.000000           0.000000   \n",
              "50%         0.000000       0.000000           0.000000   \n",
              "75%         0.000000       0.000000           0.000000   \n",
              "max        10.000000      10.000000           1.000000   \n",
              "\n",
              "       previous_cancellations  previous_bookings_not_canceled  \\\n",
              "count           119390.000000                   119390.000000   \n",
              "mean                 0.087118                        0.137097   \n",
              "std                  0.844336                        1.497437   \n",
              "min                  0.000000                        0.000000   \n",
              "25%                  0.000000                        0.000000   \n",
              "50%                  0.000000                        0.000000   \n",
              "75%                  0.000000                        0.000000   \n",
              "max                 26.000000                       72.000000   \n",
              "\n",
              "       booking_changes          agent      company  days_in_waiting_list  \\\n",
              "count    119390.000000  103050.000000  6797.000000         119390.000000   \n",
              "mean          0.221124      86.693382   189.266735              2.321149   \n",
              "std           0.652306     110.774548   131.655015             17.594721   \n",
              "min           0.000000       1.000000     6.000000              0.000000   \n",
              "25%           0.000000       9.000000    62.000000              0.000000   \n",
              "50%           0.000000      14.000000   179.000000              0.000000   \n",
              "75%           0.000000     229.000000   270.000000              0.000000   \n",
              "max          21.000000     535.000000   543.000000            391.000000   \n",
              "\n",
              "                 adr  required_car_parking_spaces  total_of_special_requests  \n",
              "count  119390.000000                119390.000000              119390.000000  \n",
              "mean      101.831122                     0.062518                   0.571363  \n",
              "std        50.535790                     0.245291                   0.792798  \n",
              "min        -6.380000                     0.000000                   0.000000  \n",
              "25%        69.290000                     0.000000                   0.000000  \n",
              "50%        94.575000                     0.000000                   0.000000  \n",
              "75%       126.000000                     0.000000                   1.000000  \n",
              "max      5400.000000                     8.000000                   5.000000  "
            ],
            "text/html": [
              "\n",
              "  <div id=\"df-cabda38c-00bc-4b99-a437-16086a79e181\">\n",
              "    <div class=\"colab-df-container\">\n",
              "      <div>\n",
              "<style scoped>\n",
              "    .dataframe tbody tr th:only-of-type {\n",
              "        vertical-align: middle;\n",
              "    }\n",
              "\n",
              "    .dataframe tbody tr th {\n",
              "        vertical-align: top;\n",
              "    }\n",
              "\n",
              "    .dataframe thead th {\n",
              "        text-align: right;\n",
              "    }\n",
              "</style>\n",
              "<table border=\"1\" class=\"dataframe\">\n",
              "  <thead>\n",
              "    <tr style=\"text-align: right;\">\n",
              "      <th></th>\n",
              "      <th>is_canceled</th>\n",
              "      <th>lead_time</th>\n",
              "      <th>arrival_date_year</th>\n",
              "      <th>arrival_date_week_number</th>\n",
              "      <th>arrival_date_day_of_month</th>\n",
              "      <th>stays_in_weekend_nights</th>\n",
              "      <th>stays_in_week_nights</th>\n",
              "      <th>adults</th>\n",
              "      <th>children</th>\n",
              "      <th>babies</th>\n",
              "      <th>is_repeated_guest</th>\n",
              "      <th>previous_cancellations</th>\n",
              "      <th>previous_bookings_not_canceled</th>\n",
              "      <th>booking_changes</th>\n",
              "      <th>agent</th>\n",
              "      <th>company</th>\n",
              "      <th>days_in_waiting_list</th>\n",
              "      <th>adr</th>\n",
              "      <th>required_car_parking_spaces</th>\n",
              "      <th>total_of_special_requests</th>\n",
              "    </tr>\n",
              "  </thead>\n",
              "  <tbody>\n",
              "    <tr>\n",
              "      <th>count</th>\n",
              "      <td>119390.000000</td>\n",
              "      <td>119390.000000</td>\n",
              "      <td>119390.000000</td>\n",
              "      <td>119390.000000</td>\n",
              "      <td>119390.000000</td>\n",
              "      <td>119390.000000</td>\n",
              "      <td>119390.000000</td>\n",
              "      <td>119390.000000</td>\n",
              "      <td>119386.000000</td>\n",
              "      <td>119390.000000</td>\n",
              "      <td>119390.000000</td>\n",
              "      <td>119390.000000</td>\n",
              "      <td>119390.000000</td>\n",
              "      <td>119390.000000</td>\n",
              "      <td>103050.000000</td>\n",
              "      <td>6797.000000</td>\n",
              "      <td>119390.000000</td>\n",
              "      <td>119390.000000</td>\n",
              "      <td>119390.000000</td>\n",
              "      <td>119390.000000</td>\n",
              "    </tr>\n",
              "    <tr>\n",
              "      <th>mean</th>\n",
              "      <td>0.370416</td>\n",
              "      <td>104.011416</td>\n",
              "      <td>2016.156554</td>\n",
              "      <td>27.165173</td>\n",
              "      <td>15.798241</td>\n",
              "      <td>0.927599</td>\n",
              "      <td>2.500302</td>\n",
              "      <td>1.856403</td>\n",
              "      <td>0.103890</td>\n",
              "      <td>0.007949</td>\n",
              "      <td>0.031912</td>\n",
              "      <td>0.087118</td>\n",
              "      <td>0.137097</td>\n",
              "      <td>0.221124</td>\n",
              "      <td>86.693382</td>\n",
              "      <td>189.266735</td>\n",
              "      <td>2.321149</td>\n",
              "      <td>101.831122</td>\n",
              "      <td>0.062518</td>\n",
              "      <td>0.571363</td>\n",
              "    </tr>\n",
              "    <tr>\n",
              "      <th>std</th>\n",
              "      <td>0.482918</td>\n",
              "      <td>106.863097</td>\n",
              "      <td>0.707476</td>\n",
              "      <td>13.605138</td>\n",
              "      <td>8.780829</td>\n",
              "      <td>0.998613</td>\n",
              "      <td>1.908286</td>\n",
              "      <td>0.579261</td>\n",
              "      <td>0.398561</td>\n",
              "      <td>0.097436</td>\n",
              "      <td>0.175767</td>\n",
              "      <td>0.844336</td>\n",
              "      <td>1.497437</td>\n",
              "      <td>0.652306</td>\n",
              "      <td>110.774548</td>\n",
              "      <td>131.655015</td>\n",
              "      <td>17.594721</td>\n",
              "      <td>50.535790</td>\n",
              "      <td>0.245291</td>\n",
              "      <td>0.792798</td>\n",
              "    </tr>\n",
              "    <tr>\n",
              "      <th>min</th>\n",
              "      <td>0.000000</td>\n",
              "      <td>0.000000</td>\n",
              "      <td>2015.000000</td>\n",
              "      <td>1.000000</td>\n",
              "      <td>1.000000</td>\n",
              "      <td>0.000000</td>\n",
              "      <td>0.000000</td>\n",
              "      <td>0.000000</td>\n",
              "      <td>0.000000</td>\n",
              "      <td>0.000000</td>\n",
              "      <td>0.000000</td>\n",
              "      <td>0.000000</td>\n",
              "      <td>0.000000</td>\n",
              "      <td>0.000000</td>\n",
              "      <td>1.000000</td>\n",
              "      <td>6.000000</td>\n",
              "      <td>0.000000</td>\n",
              "      <td>-6.380000</td>\n",
              "      <td>0.000000</td>\n",
              "      <td>0.000000</td>\n",
              "    </tr>\n",
              "    <tr>\n",
              "      <th>25%</th>\n",
              "      <td>0.000000</td>\n",
              "      <td>18.000000</td>\n",
              "      <td>2016.000000</td>\n",
              "      <td>16.000000</td>\n",
              "      <td>8.000000</td>\n",
              "      <td>0.000000</td>\n",
              "      <td>1.000000</td>\n",
              "      <td>2.000000</td>\n",
              "      <td>0.000000</td>\n",
              "      <td>0.000000</td>\n",
              "      <td>0.000000</td>\n",
              "      <td>0.000000</td>\n",
              "      <td>0.000000</td>\n",
              "      <td>0.000000</td>\n",
              "      <td>9.000000</td>\n",
              "      <td>62.000000</td>\n",
              "      <td>0.000000</td>\n",
              "      <td>69.290000</td>\n",
              "      <td>0.000000</td>\n",
              "      <td>0.000000</td>\n",
              "    </tr>\n",
              "    <tr>\n",
              "      <th>50%</th>\n",
              "      <td>0.000000</td>\n",
              "      <td>69.000000</td>\n",
              "      <td>2016.000000</td>\n",
              "      <td>28.000000</td>\n",
              "      <td>16.000000</td>\n",
              "      <td>1.000000</td>\n",
              "      <td>2.000000</td>\n",
              "      <td>2.000000</td>\n",
              "      <td>0.000000</td>\n",
              "      <td>0.000000</td>\n",
              "      <td>0.000000</td>\n",
              "      <td>0.000000</td>\n",
              "      <td>0.000000</td>\n",
              "      <td>0.000000</td>\n",
              "      <td>14.000000</td>\n",
              "      <td>179.000000</td>\n",
              "      <td>0.000000</td>\n",
              "      <td>94.575000</td>\n",
              "      <td>0.000000</td>\n",
              "      <td>0.000000</td>\n",
              "    </tr>\n",
              "    <tr>\n",
              "      <th>75%</th>\n",
              "      <td>1.000000</td>\n",
              "      <td>160.000000</td>\n",
              "      <td>2017.000000</td>\n",
              "      <td>38.000000</td>\n",
              "      <td>23.000000</td>\n",
              "      <td>2.000000</td>\n",
              "      <td>3.000000</td>\n",
              "      <td>2.000000</td>\n",
              "      <td>0.000000</td>\n",
              "      <td>0.000000</td>\n",
              "      <td>0.000000</td>\n",
              "      <td>0.000000</td>\n",
              "      <td>0.000000</td>\n",
              "      <td>0.000000</td>\n",
              "      <td>229.000000</td>\n",
              "      <td>270.000000</td>\n",
              "      <td>0.000000</td>\n",
              "      <td>126.000000</td>\n",
              "      <td>0.000000</td>\n",
              "      <td>1.000000</td>\n",
              "    </tr>\n",
              "    <tr>\n",
              "      <th>max</th>\n",
              "      <td>1.000000</td>\n",
              "      <td>737.000000</td>\n",
              "      <td>2017.000000</td>\n",
              "      <td>53.000000</td>\n",
              "      <td>31.000000</td>\n",
              "      <td>19.000000</td>\n",
              "      <td>50.000000</td>\n",
              "      <td>55.000000</td>\n",
              "      <td>10.000000</td>\n",
              "      <td>10.000000</td>\n",
              "      <td>1.000000</td>\n",
              "      <td>26.000000</td>\n",
              "      <td>72.000000</td>\n",
              "      <td>21.000000</td>\n",
              "      <td>535.000000</td>\n",
              "      <td>543.000000</td>\n",
              "      <td>391.000000</td>\n",
              "      <td>5400.000000</td>\n",
              "      <td>8.000000</td>\n",
              "      <td>5.000000</td>\n",
              "    </tr>\n",
              "  </tbody>\n",
              "</table>\n",
              "</div>\n",
              "      <button class=\"colab-df-convert\" onclick=\"convertToInteractive('df-cabda38c-00bc-4b99-a437-16086a79e181')\"\n",
              "              title=\"Convert this dataframe to an interactive table.\"\n",
              "              style=\"display:none;\">\n",
              "        \n",
              "  <svg xmlns=\"http://www.w3.org/2000/svg\" height=\"24px\"viewBox=\"0 0 24 24\"\n",
              "       width=\"24px\">\n",
              "    <path d=\"M0 0h24v24H0V0z\" fill=\"none\"/>\n",
              "    <path d=\"M18.56 5.44l.94 2.06.94-2.06 2.06-.94-2.06-.94-.94-2.06-.94 2.06-2.06.94zm-11 1L8.5 8.5l.94-2.06 2.06-.94-2.06-.94L8.5 2.5l-.94 2.06-2.06.94zm10 10l.94 2.06.94-2.06 2.06-.94-2.06-.94-.94-2.06-.94 2.06-2.06.94z\"/><path d=\"M17.41 7.96l-1.37-1.37c-.4-.4-.92-.59-1.43-.59-.52 0-1.04.2-1.43.59L10.3 9.45l-7.72 7.72c-.78.78-.78 2.05 0 2.83L4 21.41c.39.39.9.59 1.41.59.51 0 1.02-.2 1.41-.59l7.78-7.78 2.81-2.81c.8-.78.8-2.07 0-2.86zM5.41 20L4 18.59l7.72-7.72 1.47 1.35L5.41 20z\"/>\n",
              "  </svg>\n",
              "      </button>\n",
              "      \n",
              "  <style>\n",
              "    .colab-df-container {\n",
              "      display:flex;\n",
              "      flex-wrap:wrap;\n",
              "      gap: 12px;\n",
              "    }\n",
              "\n",
              "    .colab-df-convert {\n",
              "      background-color: #E8F0FE;\n",
              "      border: none;\n",
              "      border-radius: 50%;\n",
              "      cursor: pointer;\n",
              "      display: none;\n",
              "      fill: #1967D2;\n",
              "      height: 32px;\n",
              "      padding: 0 0 0 0;\n",
              "      width: 32px;\n",
              "    }\n",
              "\n",
              "    .colab-df-convert:hover {\n",
              "      background-color: #E2EBFA;\n",
              "      box-shadow: 0px 1px 2px rgba(60, 64, 67, 0.3), 0px 1px 3px 1px rgba(60, 64, 67, 0.15);\n",
              "      fill: #174EA6;\n",
              "    }\n",
              "\n",
              "    [theme=dark] .colab-df-convert {\n",
              "      background-color: #3B4455;\n",
              "      fill: #D2E3FC;\n",
              "    }\n",
              "\n",
              "    [theme=dark] .colab-df-convert:hover {\n",
              "      background-color: #434B5C;\n",
              "      box-shadow: 0px 1px 3px 1px rgba(0, 0, 0, 0.15);\n",
              "      filter: drop-shadow(0px 1px 2px rgba(0, 0, 0, 0.3));\n",
              "      fill: #FFFFFF;\n",
              "    }\n",
              "  </style>\n",
              "\n",
              "      <script>\n",
              "        const buttonEl =\n",
              "          document.querySelector('#df-cabda38c-00bc-4b99-a437-16086a79e181 button.colab-df-convert');\n",
              "        buttonEl.style.display =\n",
              "          google.colab.kernel.accessAllowed ? 'block' : 'none';\n",
              "\n",
              "        async function convertToInteractive(key) {\n",
              "          const element = document.querySelector('#df-cabda38c-00bc-4b99-a437-16086a79e181');\n",
              "          const dataTable =\n",
              "            await google.colab.kernel.invokeFunction('convertToInteractive',\n",
              "                                                     [key], {});\n",
              "          if (!dataTable) return;\n",
              "\n",
              "          const docLinkHtml = 'Like what you see? Visit the ' +\n",
              "            '<a target=\"_blank\" href=https://colab.research.google.com/notebooks/data_table.ipynb>data table notebook</a>'\n",
              "            + ' to learn more about interactive tables.';\n",
              "          element.innerHTML = '';\n",
              "          dataTable['output_type'] = 'display_data';\n",
              "          await google.colab.output.renderOutput(dataTable, element);\n",
              "          const docLink = document.createElement('div');\n",
              "          docLink.innerHTML = docLinkHtml;\n",
              "          element.appendChild(docLink);\n",
              "        }\n",
              "      </script>\n",
              "    </div>\n",
              "  </div>\n",
              "  "
            ]
          },
          "metadata": {},
          "execution_count": 169
        }
      ]
    },
    {
      "cell_type": "markdown",
      "source": [
        "### Some inferences that we can draw from the above statistics are:\n",
        "\n",
        "### * The average lead time is 104 days with the maximum being 737 days.\n",
        "\n",
        "### * There could be outliers in columns such as 'previous_cancellations',\t'previous_bookings_not_canceled' and 'booking_changes'\n",
        "\n",
        "### * The mean 'adr' is 101.83\n",
        "\n",
        "### * The mean of 'days_in_waiting_list' is 2.32 days. However, the maximum waitlist period is 391 days\n",
        "\n",
        "### We would get a clearer picture of the hotel booking data through data exploration and visualisation of all the individual statistics."
      ],
      "metadata": {
        "id": "9Qc5Lh7Q_GTh"
      }
    },
    {
      "cell_type": "markdown",
      "source": [
        "## <b> Data Dictionary"
      ],
      "metadata": {
        "id": "ASVlgXhgXtic"
      }
    },
    {
      "cell_type": "markdown",
      "source": [
        "### To assist in data exploration, let us create a Data Dictionary\n",
        "\n",
        "### First, we need to find the unique values present in all the columns containing categorical data."
      ],
      "metadata": {
        "id": "g72Avj8_ipTc"
      }
    },
    {
      "cell_type": "code",
      "source": [
        "# Creating a list of all the column names\n",
        "column_names = list(hotel_booking.columns)\n",
        "\n",
        "\n",
        "# Running a 'for' loop across all the 32 columns and printing the 'unique' values 'if' the column is of object data type\n",
        "for i in range(len(hotel_booking.columns)):                  \n",
        "\n",
        "  if hotel_booking.dtypes[column_names[i]] == 'object':    \n",
        "\n",
        "    print(f\"The unique values for {column_names[i]} are: {list(hotel_booking[column_names[i]].unique())}\", end = '\\n\\n')\n",
        "    "
      ],
      "metadata": {
        "colab": {
          "base_uri": "https://localhost:8080/"
        },
        "id": "vIO2JH52KGEb",
        "outputId": "51e9ecca-0459-4d94-ce72-bfada5be6749"
      },
      "execution_count": 62,
      "outputs": [
        {
          "output_type": "stream",
          "name": "stdout",
          "text": [
            "The unique values for hotel are: ['Resort Hotel', 'City Hotel']\n",
            "\n",
            "The unique values for arrival_date_month are: ['July', 'August', 'September', 'October', 'November', 'December', 'January', 'February', 'March', 'April', 'May', 'June']\n",
            "\n",
            "The unique values for meal are: ['BB', 'FB', 'HB', 'SC', 'Undefined']\n",
            "\n",
            "The unique values for country are: ['PRT', 'GBR', 'USA', 'ESP', 'IRL', 'FRA', 'Unknown', 'ROU', 'NOR', 'OMN', 'ARG', 'POL', 'DEU', 'BEL', 'CHE', 'CN', 'GRC', 'ITA', 'NLD', 'DNK', 'RUS', 'SWE', 'AUS', 'EST', 'CZE', 'BRA', 'FIN', 'MOZ', 'BWA', 'LUX', 'SVN', 'ALB', 'IND', 'CHN', 'MEX', 'MAR', 'UKR', 'SMR', 'LVA', 'PRI', 'SRB', 'CHL', 'AUT', 'BLR', 'LTU', 'TUR', 'ZAF', 'AGO', 'ISR', 'CYM', 'ZMB', 'CPV', 'ZWE', 'DZA', 'KOR', 'CRI', 'HUN', 'ARE', 'TUN', 'JAM', 'HRV', 'HKG', 'IRN', 'GEO', 'AND', 'GIB', 'URY', 'JEY', 'CAF', 'CYP', 'COL', 'GGY', 'KWT', 'NGA', 'MDV', 'VEN', 'SVK', 'FJI', 'KAZ', 'PAK', 'IDN', 'LBN', 'PHL', 'SEN', 'SYC', 'AZE', 'BHR', 'NZL', 'THA', 'DOM', 'MKD', 'MYS', 'ARM', 'JPN', 'LKA', 'CUB', 'CMR', 'BIH', 'MUS', 'COM', 'SUR', 'UGA', 'BGR', 'CIV', 'JOR', 'SYR', 'SGP', 'BDI', 'SAU', 'VNM', 'PLW', 'QAT', 'EGY', 'PER', 'MLT', 'MWI', 'ECU', 'MDG', 'ISL', 'UZB', 'NPL', 'BHS', 'MAC', 'TGO', 'TWN', 'DJI', 'STP', 'KNA', 'ETH', 'IRQ', 'HND', 'RWA', 'KHM', 'MCO', 'BGD', 'IMN', 'TJK', 'NIC', 'BEN', 'VGB', 'TZA', 'GAB', 'GHA', 'TMP', 'GLP', 'KEN', 'LIE', 'GNB', 'MNE', 'UMI', 'MYT', 'FRO', 'MMR', 'PAN', 'BFA', 'LBY', 'MLI', 'NAM', 'BOL', 'PRY', 'BRB', 'ABW', 'AIA', 'SLV', 'DMA', 'PYF', 'GUY', 'LCA', 'ATA', 'GTM', 'ASM', 'MRT', 'NCL', 'KIR', 'SDN', 'ATF', 'SLE', 'LAO']\n",
            "\n",
            "The unique values for market_segment are: ['Direct', 'Corporate', 'Online TA', 'Offline TA/TO', 'Complementary', 'Groups', 'Undefined', 'Aviation']\n",
            "\n",
            "The unique values for distribution_channel are: ['Direct', 'Corporate', 'TA/TO', 'Undefined', 'GDS']\n",
            "\n",
            "The unique values for reserved_room_type are: ['C', 'A', 'D', 'E', 'G', 'F', 'H', 'L', 'P', 'B']\n",
            "\n",
            "The unique values for assigned_room_type are: ['C', 'A', 'D', 'E', 'G', 'F', 'I', 'B', 'H', 'P', 'L', 'K']\n",
            "\n",
            "The unique values for deposit_type are: ['No Deposit', 'Refundable', 'Non Refund']\n",
            "\n",
            "The unique values for customer_type are: ['Transient', 'Contract', 'Transient-Party', 'Group']\n",
            "\n",
            "The unique values for reservation_status are: ['Check-Out', 'Canceled', 'No-Show']\n",
            "\n"
          ]
        }
      ]
    },
    {
      "cell_type": "code",
      "source": [
        "def uni_val(x,y):\n",
        "  a = x.unique()\n",
        "  b = print(f\"The unique values {y} are: {a}\")\n",
        "  return b\n",
        "  "
      ],
      "metadata": {
        "id": "gK1j0AY0hB7H"
      },
      "execution_count": null,
      "outputs": []
    },
    {
      "cell_type": "code",
      "source": [
        "# Creating a list of all the column names\n",
        "\n",
        "column_names = list(hotel_booking.columns)\n",
        "\n",
        "\n",
        "# Running a 'for' loop across all the 32 columns and printing the 'unique' values 'if' the column is of object data type\n",
        "\n",
        "for i in range(len(hotel_booking.columns)):                  \n",
        "\n",
        "  if hotel_booking.dtypes[column_names[i]] == 'object':\n",
        "\n",
        "    uni_val(hotel_booking[column_names[i]],column_names[i])\n",
        "    print()"
      ],
      "metadata": {
        "colab": {
          "base_uri": "https://localhost:8080/"
        },
        "id": "sgQL0ifUkuqL",
        "outputId": "ce3462d1-8d1f-4bb9-dd96-7369603cf7c6"
      },
      "execution_count": null,
      "outputs": [
        {
          "output_type": "stream",
          "name": "stdout",
          "text": [
            "The unique values hotel are: ['Resort Hotel' 'City Hotel']\n",
            "\n",
            "The unique values arrival_date_month are: ['July' 'August' 'September' 'October' 'November' 'December' 'January'\n",
            " 'February' 'March' 'April' 'May' 'June']\n",
            "\n",
            "The unique values meal are: ['BB' 'FB' 'HB' 'SC' 'Undefined']\n",
            "\n",
            "The unique values country are: ['PRT' 'GBR' 'USA' 'ESP' 'IRL' 'FRA' nan 'ROU' 'NOR' 'OMN' 'ARG' 'POL'\n",
            " 'DEU' 'BEL' 'CHE' 'CN' 'GRC' 'ITA' 'NLD' 'DNK' 'RUS' 'SWE' 'AUS' 'EST'\n",
            " 'CZE' 'BRA' 'FIN' 'MOZ' 'BWA' 'LUX' 'SVN' 'ALB' 'IND' 'CHN' 'MEX' 'MAR'\n",
            " 'UKR' 'SMR' 'LVA' 'PRI' 'SRB' 'CHL' 'AUT' 'BLR' 'LTU' 'TUR' 'ZAF' 'AGO'\n",
            " 'ISR' 'CYM' 'ZMB' 'CPV' 'ZWE' 'DZA' 'KOR' 'CRI' 'HUN' 'ARE' 'TUN' 'JAM'\n",
            " 'HRV' 'HKG' 'IRN' 'GEO' 'AND' 'GIB' 'URY' 'JEY' 'CAF' 'CYP' 'COL' 'GGY'\n",
            " 'KWT' 'NGA' 'MDV' 'VEN' 'SVK' 'FJI' 'KAZ' 'PAK' 'IDN' 'LBN' 'PHL' 'SEN'\n",
            " 'SYC' 'AZE' 'BHR' 'NZL' 'THA' 'DOM' 'MKD' 'MYS' 'ARM' 'JPN' 'LKA' 'CUB'\n",
            " 'CMR' 'BIH' 'MUS' 'COM' 'SUR' 'UGA' 'BGR' 'CIV' 'JOR' 'SYR' 'SGP' 'BDI'\n",
            " 'SAU' 'VNM' 'PLW' 'QAT' 'EGY' 'PER' 'MLT' 'MWI' 'ECU' 'MDG' 'ISL' 'UZB'\n",
            " 'NPL' 'BHS' 'MAC' 'TGO' 'TWN' 'DJI' 'STP' 'KNA' 'ETH' 'IRQ' 'HND' 'RWA'\n",
            " 'KHM' 'MCO' 'BGD' 'IMN' 'TJK' 'NIC' 'BEN' 'VGB' 'TZA' 'GAB' 'GHA' 'TMP'\n",
            " 'GLP' 'KEN' 'LIE' 'GNB' 'MNE' 'UMI' 'MYT' 'FRO' 'MMR' 'PAN' 'BFA' 'LBY'\n",
            " 'MLI' 'NAM' 'BOL' 'PRY' 'BRB' 'ABW' 'AIA' 'SLV' 'DMA' 'PYF' 'GUY' 'LCA'\n",
            " 'ATA' 'GTM' 'ASM' 'MRT' 'NCL' 'KIR' 'SDN' 'ATF' 'SLE' 'LAO']\n",
            "\n",
            "The unique values market_segment are: ['Direct' 'Corporate' 'Online TA' 'Offline TA/TO' 'Complementary' 'Groups'\n",
            " 'Undefined' 'Aviation']\n",
            "\n",
            "The unique values distribution_channel are: ['Direct' 'Corporate' 'TA/TO' 'Undefined' 'GDS']\n",
            "\n",
            "The unique values reserved_room_type are: ['C' 'A' 'D' 'E' 'G' 'F' 'H' 'L' 'P' 'B']\n",
            "\n",
            "The unique values assigned_room_type are: ['C' 'A' 'D' 'E' 'G' 'F' 'I' 'B' 'H' 'P' 'L' 'K']\n",
            "\n",
            "The unique values deposit_type are: ['No Deposit' 'Refundable' 'Non Refund']\n",
            "\n",
            "The unique values customer_type are: ['Transient' 'Contract' 'Transient-Party' 'Group']\n",
            "\n",
            "The unique values reservation_status are: ['Check-Out' 'Canceled' 'No-Show']\n",
            "\n"
          ]
        }
      ]
    },
    {
      "cell_type": "markdown",
      "source": [
        "### Now that we know the unique labels in each of the categorical columns, let us understand the information contained in all the columns through a Data Dictionary."
      ],
      "metadata": {
        "id": "yE7DkV_jZHTg"
      }
    },
    {
      "cell_type": "markdown",
      "source": [
        "###  The various columns are as follows:\n",
        "\n",
        "### 1 hotel: It provides information about the type of hotel booked. There are two types of hotels- Resort Hotel and City Hotel\n",
        "\n",
        "### 2 is_canceled: It indicates if the booking was cancelled. It assigns the value of 1 if the booking is cancelled, else it is assigned 0\n",
        "\n",
        "### 3 lead_time: It gives the number of days that elapsed between the date of  booking and the arrival date of the guests\n",
        "\n",
        "### 4 arrival_date_year: It gives the year of the guest's arrival date. We have data for the years 2015, 2016 and 2017\n",
        "\n",
        "### 5 arrival_date_month: It is a categorical value that gives the month of the guest's arrival date with 12 categories- “January” to “December”\n",
        "\n",
        "### 6 arrival_date_week_number:\tIt gives the number of the week of the guest's arrival date. It could range from 1 to 53\n",
        "\n",
        "### 7 arrival_date_day_of_month: It gives the day of the month on which the guest's arrive. It could range from 1 to 31\n",
        "\n",
        "### 8 stays_in_weekend_nights: It indicates the number of weekend nights (Saturday or Sunday) that the guests stayed or booked to stay at the hotel\n",
        "\n",
        "### 9 stays_in_week_nights: It indicates the number of week nights (Monday to Friday) that the guests stayed or booked to stay at the hotel\n",
        "\n",
        "### 10 adults: It shows the number of adults who were booked for a stay at the hotel\n",
        "\n",
        "### 11 children: It shows the number of children (age group not indicated) who were booked for a stay at the hotel\n",
        "\n",
        "### 12 babies: It shows the number of babies (age group not indicated) who were booked for a stay at the hotel\n",
        "\n",
        "### 13 meal: It is a categorical variable that indicates the type of meal booked. Categories present (in accordance with standard hospitality meal packages) are:\n",
        "\n",
        " * ### BB – Bed & Breakfast\n",
        " * ### HB – Half Board (breakfast and one other meal)\n",
        " * ### FB – Full Board (breakfast, lunch and dinner)\n",
        " * ### SC/Undefined – no meal package\n",
        "\n",
        "### 14 country: It indicates the guest's country of origin\n",
        "\n",
        "### 15 market_segment: It is the designation of the market segment through which the booking was made. The various categories are: Direct, Corporate, Online TA, Offline TA/TO, Complementary, Groups, Aviation and Undefined. Here, the term 'TA' means Travel Agents and 'TO' means Tour Operators\n",
        "\n",
        "### 16 distribution_channel: It is a categorical\tvariable indicating the distribution channel through which the booking was made. The various categories are: Direct, Corporate, TA/TO, GDS (Global Distribution System) and Undefined\n",
        "\n",
        "### 17 is_repeated_guest: It indicates if the booking was made by a repeated guest (1) or not (0)\n",
        "\n",
        "### 18 previous_cancellations: It gives the number of previous bookings that were cancelled by the customer prior to the current booking\n",
        "\n",
        "### 19 previous_bookings_not_canceled: It gives the number of previous bookings that were not cancelled by the customer prior to the current booking\n",
        "\n",
        "### 20 reserved_room_type: It is a categorical\tcode for the type of room that has been reserved while booking. It may be 'C', 'A', 'D', 'E', 'G', 'F', 'H', 'L', 'P' or 'B'\n",
        "\n",
        "### 21 assigned_room_type: It is a categorical\tcode for the type of room assigned to the booking. It may be 'C', 'A', 'D', 'E', 'G', 'F', 'I', 'B', 'H', 'P', 'L' or 'K'\n",
        "\n",
        "### 22 booking_changes: It indicates the number of changes made to the booking between the time of booking and the moment of check-in or cancellation\n",
        "\n",
        "### 23 deposit_type: It gives a categorical indication of the type of deposit made by the customer to confirm the booking. This variable assumes three categories- 'No Deposit', 'Refundable' or 'Non Refund'\n",
        "\n",
        "### 24 agent: It is a marker for the travel agency that has made the booking\n",
        "      \n",
        "### 25 company: It is a marker of the company/entity that has made the booking\n",
        "\n",
        "### 26 days_in_waiting_list: It gives the number of days the booking was in the waiting list before it was confirmed to the customer\n",
        "\n",
        "### 27 customer_type: It is a categorical variable that informs about the type of customer. It may be Contract, Group, Transient or Transient-Party\n",
        "\n",
        "### 28 adr: It is the Average Daily Rate which is a measure of the average revenue that the hotel receives for each occupied guest room per day\n",
        "\n",
        "### 29 required_car_parking_spaces: It gives the number of car parking spaces required by the customer\n",
        "\n",
        "### 30 total_of_special_requests: It gives the number of special requests made by the customer (e.g. twin bed or high floor)\n",
        "\n",
        "### 31 reservation_status: It is a categorical variable indicating the last known status of the reservation. It may be any of the three categories- Check-Out, Canceled or No-Show \n",
        "\n",
        "### 32 reservation_status_date: It gives the date on which the reservation_status was last set.\t\t\n",
        "\n",
        "\n",
        "\n",
        "\n",
        "\n",
        "\n"
      ],
      "metadata": {
        "id": "MDYzNK_mlf2L"
      }
    },
    {
      "cell_type": "markdown",
      "source": [
        "## <b> Dropping unwanted columns"
      ],
      "metadata": {
        "id": "l_AMuHZkYHZJ"
      }
    },
    {
      "cell_type": "markdown",
      "source": [
        "### At the outset, there is one column- 'arrival_date_week_number'- that i would like to straightaway drop from the dataset. The information contained in this column would not make any value addition to our dataset. Conclusions about the customer preferences for travel period may be drawn from 'arrival_date_month' column.\n"
      ],
      "metadata": {
        "id": "0GZBpSm9YPGA"
      }
    },
    {
      "cell_type": "code",
      "source": [
        "# Dropping 'arrival_date_week_number' from the dataset\n",
        "\n",
        "hotel_booking.drop('arrival_date_week_number', axis=1, inplace=True)\n"
      ],
      "metadata": {
        "id": "qEu0YcGYe_m6"
      },
      "execution_count": 7,
      "outputs": []
    },
    {
      "cell_type": "markdown",
      "source": [
        "## <b> Handling Missing Values "
      ],
      "metadata": {
        "id": "0a4-6EDnVuB7"
      }
    },
    {
      "cell_type": "markdown",
      "source": [
        "\n",
        "### We have learnt earlier that there are 4 columns with missing values. Let us gather some more information about them\n"
      ],
      "metadata": {
        "id": "-7w2D2yhOe06"
      }
    },
    {
      "cell_type": "code",
      "source": [
        "# Creating a function to find the missing values in our dataset\n",
        "\n",
        "def missing():\n",
        "\n",
        "# Finding the number of missing/null values across all columns in the dataset\n",
        "  missing_values = hotel_booking.isnull().sum()\n",
        "\n",
        "# Finding the count of missing values in only those columns which have them\n",
        "  mis_val_count = missing_values[missing_values > 0]\n",
        "\n",
        "# Finding the % of missing values in the columns\n",
        "  mis_val_percent = round(100 * mis_val_count / len(hotel_booking), 2)\n",
        "\n",
        "# Creating a table with the above information and renaming the column heads\n",
        "  mis_value_table = pd.concat([mis_val_count, mis_val_percent], axis=1)\n",
        "  mis_value_table = mis_value_table.rename(columns = {0 : 'Missing Values', 1 : '% Missing'})\n",
        "\n",
        "# If there are missing values, print the mis_value_table. Else, print that there are no missing values\n",
        "  if mis_value_table.shape[0] != 0:\n",
        "    missing_result = mis_value_table\n",
        "  else:\n",
        "    missing_result = \"There are no missing/null values in the hotel_booking dataset\"\n",
        "\n",
        "  return missing_result"
      ],
      "metadata": {
        "id": "Bxr21ac-JQI1"
      },
      "execution_count": 8,
      "outputs": []
    },
    {
      "cell_type": "code",
      "source": [
        "# Calling the function for missing values\n",
        "\n",
        "missing()"
      ],
      "metadata": {
        "colab": {
          "base_uri": "https://localhost:8080/",
          "height": 175
        },
        "id": "bweQ4igkyt4P",
        "outputId": "5463549d-602c-4836-ca1b-35fa8f561bb7"
      },
      "execution_count": null,
      "outputs": [
        {
          "output_type": "execute_result",
          "data": {
            "text/plain": [
              "          Missing Values  % Missing\n",
              "children               4       0.00\n",
              "country              488       0.41\n",
              "agent              16340      13.69\n",
              "company           112593      94.31"
            ],
            "text/html": [
              "\n",
              "  <div id=\"df-845a7f0c-444a-4531-98bf-5973b285f5cd\">\n",
              "    <div class=\"colab-df-container\">\n",
              "      <div>\n",
              "<style scoped>\n",
              "    .dataframe tbody tr th:only-of-type {\n",
              "        vertical-align: middle;\n",
              "    }\n",
              "\n",
              "    .dataframe tbody tr th {\n",
              "        vertical-align: top;\n",
              "    }\n",
              "\n",
              "    .dataframe thead th {\n",
              "        text-align: right;\n",
              "    }\n",
              "</style>\n",
              "<table border=\"1\" class=\"dataframe\">\n",
              "  <thead>\n",
              "    <tr style=\"text-align: right;\">\n",
              "      <th></th>\n",
              "      <th>Missing Values</th>\n",
              "      <th>% Missing</th>\n",
              "    </tr>\n",
              "  </thead>\n",
              "  <tbody>\n",
              "    <tr>\n",
              "      <th>children</th>\n",
              "      <td>4</td>\n",
              "      <td>0.00</td>\n",
              "    </tr>\n",
              "    <tr>\n",
              "      <th>country</th>\n",
              "      <td>488</td>\n",
              "      <td>0.41</td>\n",
              "    </tr>\n",
              "    <tr>\n",
              "      <th>agent</th>\n",
              "      <td>16340</td>\n",
              "      <td>13.69</td>\n",
              "    </tr>\n",
              "    <tr>\n",
              "      <th>company</th>\n",
              "      <td>112593</td>\n",
              "      <td>94.31</td>\n",
              "    </tr>\n",
              "  </tbody>\n",
              "</table>\n",
              "</div>\n",
              "      <button class=\"colab-df-convert\" onclick=\"convertToInteractive('df-845a7f0c-444a-4531-98bf-5973b285f5cd')\"\n",
              "              title=\"Convert this dataframe to an interactive table.\"\n",
              "              style=\"display:none;\">\n",
              "        \n",
              "  <svg xmlns=\"http://www.w3.org/2000/svg\" height=\"24px\"viewBox=\"0 0 24 24\"\n",
              "       width=\"24px\">\n",
              "    <path d=\"M0 0h24v24H0V0z\" fill=\"none\"/>\n",
              "    <path d=\"M18.56 5.44l.94 2.06.94-2.06 2.06-.94-2.06-.94-.94-2.06-.94 2.06-2.06.94zm-11 1L8.5 8.5l.94-2.06 2.06-.94-2.06-.94L8.5 2.5l-.94 2.06-2.06.94zm10 10l.94 2.06.94-2.06 2.06-.94-2.06-.94-.94-2.06-.94 2.06-2.06.94z\"/><path d=\"M17.41 7.96l-1.37-1.37c-.4-.4-.92-.59-1.43-.59-.52 0-1.04.2-1.43.59L10.3 9.45l-7.72 7.72c-.78.78-.78 2.05 0 2.83L4 21.41c.39.39.9.59 1.41.59.51 0 1.02-.2 1.41-.59l7.78-7.78 2.81-2.81c.8-.78.8-2.07 0-2.86zM5.41 20L4 18.59l7.72-7.72 1.47 1.35L5.41 20z\"/>\n",
              "  </svg>\n",
              "      </button>\n",
              "      \n",
              "  <style>\n",
              "    .colab-df-container {\n",
              "      display:flex;\n",
              "      flex-wrap:wrap;\n",
              "      gap: 12px;\n",
              "    }\n",
              "\n",
              "    .colab-df-convert {\n",
              "      background-color: #E8F0FE;\n",
              "      border: none;\n",
              "      border-radius: 50%;\n",
              "      cursor: pointer;\n",
              "      display: none;\n",
              "      fill: #1967D2;\n",
              "      height: 32px;\n",
              "      padding: 0 0 0 0;\n",
              "      width: 32px;\n",
              "    }\n",
              "\n",
              "    .colab-df-convert:hover {\n",
              "      background-color: #E2EBFA;\n",
              "      box-shadow: 0px 1px 2px rgba(60, 64, 67, 0.3), 0px 1px 3px 1px rgba(60, 64, 67, 0.15);\n",
              "      fill: #174EA6;\n",
              "    }\n",
              "\n",
              "    [theme=dark] .colab-df-convert {\n",
              "      background-color: #3B4455;\n",
              "      fill: #D2E3FC;\n",
              "    }\n",
              "\n",
              "    [theme=dark] .colab-df-convert:hover {\n",
              "      background-color: #434B5C;\n",
              "      box-shadow: 0px 1px 3px 1px rgba(0, 0, 0, 0.15);\n",
              "      filter: drop-shadow(0px 1px 2px rgba(0, 0, 0, 0.3));\n",
              "      fill: #FFFFFF;\n",
              "    }\n",
              "  </style>\n",
              "\n",
              "      <script>\n",
              "        const buttonEl =\n",
              "          document.querySelector('#df-845a7f0c-444a-4531-98bf-5973b285f5cd button.colab-df-convert');\n",
              "        buttonEl.style.display =\n",
              "          google.colab.kernel.accessAllowed ? 'block' : 'none';\n",
              "\n",
              "        async function convertToInteractive(key) {\n",
              "          const element = document.querySelector('#df-845a7f0c-444a-4531-98bf-5973b285f5cd');\n",
              "          const dataTable =\n",
              "            await google.colab.kernel.invokeFunction('convertToInteractive',\n",
              "                                                     [key], {});\n",
              "          if (!dataTable) return;\n",
              "\n",
              "          const docLinkHtml = 'Like what you see? Visit the ' +\n",
              "            '<a target=\"_blank\" href=https://colab.research.google.com/notebooks/data_table.ipynb>data table notebook</a>'\n",
              "            + ' to learn more about interactive tables.';\n",
              "          element.innerHTML = '';\n",
              "          dataTable['output_type'] = 'display_data';\n",
              "          await google.colab.output.renderOutput(dataTable, element);\n",
              "          const docLink = document.createElement('div');\n",
              "          docLink.innerHTML = docLinkHtml;\n",
              "          element.appendChild(docLink);\n",
              "        }\n",
              "      </script>\n",
              "    </div>\n",
              "  </div>\n",
              "  "
            ]
          },
          "metadata": {},
          "execution_count": 173
        }
      ]
    },
    {
      "cell_type": "markdown",
      "source": [
        "### There are 4 observations in the 'children' column that have missing/null values. \n",
        "### We can deal with it in two ways. \n",
        "###  * Since they are only four (i.e. insignificant in our dataset) in number, we can remove the rows/observations with missing values for 'children' column. \n",
        "###  * Alternatively, we can assign 0 to these observations as the mean value in that column (0.103890) is also nearly 0\n",
        "### Here, I choose to fill the missing/null observations in the 'children' column with 0\n",
        "\n"
      ],
      "metadata": {
        "id": "vsWLMnFtWr_i"
      }
    },
    {
      "cell_type": "code",
      "source": [
        "# Filling the missing/null observations in the 'children' column with 0\n",
        "\n",
        "hotel_booking['children'].fillna(0,inplace = True)"
      ],
      "metadata": {
        "id": "CPDVeo_0EC4p"
      },
      "execution_count": 9,
      "outputs": []
    },
    {
      "cell_type": "markdown",
      "source": [
        "### There are 488 observations in the 'country' column that have missing/null values. \n",
        "### We have three options available with us. \n",
        "###  * Since values are missing in only 0.41% of the total rows, we may choose to delete such rows. \n",
        "###  * 'country' being a categorical column, we may choose to replace the missing values with the most common/ frequently occurring class. \n",
        "###  * The third alternative is to simply, replace the missing values with the term \"Unknown\". \n",
        "### Here, I would like to go with the third option. Exercising this option would not influence our dataset in any undue way and will also keep the original message (that the country of origin for these observations is unknown) intact.\n"
      ],
      "metadata": {
        "id": "ju47Ckx5ZKCU"
      }
    },
    {
      "cell_type": "code",
      "source": [
        "# Replacing the missing/null observations in the 'country' column with 'Unknown'\n",
        "\n",
        "hotel_booking['country'].fillna('Unknown',inplace = True)"
      ],
      "metadata": {
        "id": "guWOHEtSZJTd"
      },
      "execution_count": 10,
      "outputs": []
    },
    {
      "cell_type": "markdown",
      "source": [
        "### There are 16340\tobservations in the 'agent' column that have missing/null values. This translates to 13.69% of the total observations.\n",
        "### The missing/null values constitute more than 10% of the observations. So, it would not be appropriate to remove those rows/observations as there will be a significant loss of data \n",
        "###  The 'agent' column is a marker for the unique IDs of the travel agency that has made the bookings. So, we cannot proceed with the imputation of mean value\n",
        "###  Again, we have two options ahead of us:\n",
        "### * We may choose to impute the mode i.e. populate the missing values with the ID of the agent with most number of bookings\n",
        "### * We could fill all the missing observations with the value 0 as a marker for the unknown agent"
      ],
      "metadata": {
        "id": "48tduLTzZG2g"
      }
    },
    {
      "cell_type": "code",
      "source": [
        "# Finding the number of unique agents who made the bookings\n",
        "\n",
        "print(f\"The number of unique 'agent' are {hotel_booking.agent.nunique()}\",\"\\n\")\n",
        "\n",
        "# Finding the number of bookings made by each of the unique agents \n",
        "\n",
        "print(\"The number of bookings made by each 'agent' are: \")\n",
        "booking_by_agent = hotel_booking['agent'].value_counts().reset_index()\n",
        "booking_by_agent.rename(columns = {'index' : 'Agent', 'agent' : 'Booking_count'}, inplace=True)\n",
        "booking_by_agent"
      ],
      "metadata": {
        "colab": {
          "base_uri": "https://localhost:8080/",
          "height": 476
        },
        "id": "vsOAfb5Q5y3b",
        "outputId": "ede5e66e-97de-46f3-e405-5ddd832c7e2c"
      },
      "execution_count": 11,
      "outputs": [
        {
          "output_type": "stream",
          "name": "stdout",
          "text": [
            "The number of unique 'agent' are 333 \n",
            "\n",
            "The number of bookings made by each 'agent' are: \n"
          ]
        },
        {
          "output_type": "execute_result",
          "data": {
            "text/plain": [
              "     Agent  Booking_count\n",
              "0      9.0          31961\n",
              "1    240.0          13922\n",
              "2      1.0           7191\n",
              "3     14.0           3640\n",
              "4      7.0           3539\n",
              "..     ...            ...\n",
              "328  289.0              1\n",
              "329  432.0              1\n",
              "330  265.0              1\n",
              "331   93.0              1\n",
              "332  304.0              1\n",
              "\n",
              "[333 rows x 2 columns]"
            ],
            "text/html": [
              "\n",
              "  <div id=\"df-4c6d8e31-a265-4553-9e6a-6df9b7ba20ce\">\n",
              "    <div class=\"colab-df-container\">\n",
              "      <div>\n",
              "<style scoped>\n",
              "    .dataframe tbody tr th:only-of-type {\n",
              "        vertical-align: middle;\n",
              "    }\n",
              "\n",
              "    .dataframe tbody tr th {\n",
              "        vertical-align: top;\n",
              "    }\n",
              "\n",
              "    .dataframe thead th {\n",
              "        text-align: right;\n",
              "    }\n",
              "</style>\n",
              "<table border=\"1\" class=\"dataframe\">\n",
              "  <thead>\n",
              "    <tr style=\"text-align: right;\">\n",
              "      <th></th>\n",
              "      <th>Agent</th>\n",
              "      <th>Booking_count</th>\n",
              "    </tr>\n",
              "  </thead>\n",
              "  <tbody>\n",
              "    <tr>\n",
              "      <th>0</th>\n",
              "      <td>9.0</td>\n",
              "      <td>31961</td>\n",
              "    </tr>\n",
              "    <tr>\n",
              "      <th>1</th>\n",
              "      <td>240.0</td>\n",
              "      <td>13922</td>\n",
              "    </tr>\n",
              "    <tr>\n",
              "      <th>2</th>\n",
              "      <td>1.0</td>\n",
              "      <td>7191</td>\n",
              "    </tr>\n",
              "    <tr>\n",
              "      <th>3</th>\n",
              "      <td>14.0</td>\n",
              "      <td>3640</td>\n",
              "    </tr>\n",
              "    <tr>\n",
              "      <th>4</th>\n",
              "      <td>7.0</td>\n",
              "      <td>3539</td>\n",
              "    </tr>\n",
              "    <tr>\n",
              "      <th>...</th>\n",
              "      <td>...</td>\n",
              "      <td>...</td>\n",
              "    </tr>\n",
              "    <tr>\n",
              "      <th>328</th>\n",
              "      <td>289.0</td>\n",
              "      <td>1</td>\n",
              "    </tr>\n",
              "    <tr>\n",
              "      <th>329</th>\n",
              "      <td>432.0</td>\n",
              "      <td>1</td>\n",
              "    </tr>\n",
              "    <tr>\n",
              "      <th>330</th>\n",
              "      <td>265.0</td>\n",
              "      <td>1</td>\n",
              "    </tr>\n",
              "    <tr>\n",
              "      <th>331</th>\n",
              "      <td>93.0</td>\n",
              "      <td>1</td>\n",
              "    </tr>\n",
              "    <tr>\n",
              "      <th>332</th>\n",
              "      <td>304.0</td>\n",
              "      <td>1</td>\n",
              "    </tr>\n",
              "  </tbody>\n",
              "</table>\n",
              "<p>333 rows × 2 columns</p>\n",
              "</div>\n",
              "      <button class=\"colab-df-convert\" onclick=\"convertToInteractive('df-4c6d8e31-a265-4553-9e6a-6df9b7ba20ce')\"\n",
              "              title=\"Convert this dataframe to an interactive table.\"\n",
              "              style=\"display:none;\">\n",
              "        \n",
              "  <svg xmlns=\"http://www.w3.org/2000/svg\" height=\"24px\"viewBox=\"0 0 24 24\"\n",
              "       width=\"24px\">\n",
              "    <path d=\"M0 0h24v24H0V0z\" fill=\"none\"/>\n",
              "    <path d=\"M18.56 5.44l.94 2.06.94-2.06 2.06-.94-2.06-.94-.94-2.06-.94 2.06-2.06.94zm-11 1L8.5 8.5l.94-2.06 2.06-.94-2.06-.94L8.5 2.5l-.94 2.06-2.06.94zm10 10l.94 2.06.94-2.06 2.06-.94-2.06-.94-.94-2.06-.94 2.06-2.06.94z\"/><path d=\"M17.41 7.96l-1.37-1.37c-.4-.4-.92-.59-1.43-.59-.52 0-1.04.2-1.43.59L10.3 9.45l-7.72 7.72c-.78.78-.78 2.05 0 2.83L4 21.41c.39.39.9.59 1.41.59.51 0 1.02-.2 1.41-.59l7.78-7.78 2.81-2.81c.8-.78.8-2.07 0-2.86zM5.41 20L4 18.59l7.72-7.72 1.47 1.35L5.41 20z\"/>\n",
              "  </svg>\n",
              "      </button>\n",
              "      \n",
              "  <style>\n",
              "    .colab-df-container {\n",
              "      display:flex;\n",
              "      flex-wrap:wrap;\n",
              "      gap: 12px;\n",
              "    }\n",
              "\n",
              "    .colab-df-convert {\n",
              "      background-color: #E8F0FE;\n",
              "      border: none;\n",
              "      border-radius: 50%;\n",
              "      cursor: pointer;\n",
              "      display: none;\n",
              "      fill: #1967D2;\n",
              "      height: 32px;\n",
              "      padding: 0 0 0 0;\n",
              "      width: 32px;\n",
              "    }\n",
              "\n",
              "    .colab-df-convert:hover {\n",
              "      background-color: #E2EBFA;\n",
              "      box-shadow: 0px 1px 2px rgba(60, 64, 67, 0.3), 0px 1px 3px 1px rgba(60, 64, 67, 0.15);\n",
              "      fill: #174EA6;\n",
              "    }\n",
              "\n",
              "    [theme=dark] .colab-df-convert {\n",
              "      background-color: #3B4455;\n",
              "      fill: #D2E3FC;\n",
              "    }\n",
              "\n",
              "    [theme=dark] .colab-df-convert:hover {\n",
              "      background-color: #434B5C;\n",
              "      box-shadow: 0px 1px 3px 1px rgba(0, 0, 0, 0.15);\n",
              "      filter: drop-shadow(0px 1px 2px rgba(0, 0, 0, 0.3));\n",
              "      fill: #FFFFFF;\n",
              "    }\n",
              "  </style>\n",
              "\n",
              "      <script>\n",
              "        const buttonEl =\n",
              "          document.querySelector('#df-4c6d8e31-a265-4553-9e6a-6df9b7ba20ce button.colab-df-convert');\n",
              "        buttonEl.style.display =\n",
              "          google.colab.kernel.accessAllowed ? 'block' : 'none';\n",
              "\n",
              "        async function convertToInteractive(key) {\n",
              "          const element = document.querySelector('#df-4c6d8e31-a265-4553-9e6a-6df9b7ba20ce');\n",
              "          const dataTable =\n",
              "            await google.colab.kernel.invokeFunction('convertToInteractive',\n",
              "                                                     [key], {});\n",
              "          if (!dataTable) return;\n",
              "\n",
              "          const docLinkHtml = 'Like what you see? Visit the ' +\n",
              "            '<a target=\"_blank\" href=https://colab.research.google.com/notebooks/data_table.ipynb>data table notebook</a>'\n",
              "            + ' to learn more about interactive tables.';\n",
              "          element.innerHTML = '';\n",
              "          dataTable['output_type'] = 'display_data';\n",
              "          await google.colab.output.renderOutput(dataTable, element);\n",
              "          const docLink = document.createElement('div');\n",
              "          docLink.innerHTML = docLinkHtml;\n",
              "          element.appendChild(docLink);\n",
              "        }\n",
              "      </script>\n",
              "    </div>\n",
              "  </div>\n",
              "  "
            ]
          },
          "metadata": {},
          "execution_count": 11
        }
      ]
    },
    {
      "cell_type": "markdown",
      "source": [
        "### We see that there are 333 unique agents who have made bookings. However, the distribution of bookings made by agents seems to be very skewed. Maximum number of bookings (31,961) were made by agent marked '9'. The second highest number of bookings (13,922) made by agent marked '240' is about 43% lesser than the highest number. \n",
        "### By imputing mode of the 'agent' data to the missing values (16340 in number), the already skewed distribution will become even more skewed. Hence, I would fill all the missing observations with the value 0 as a marker for bookings by an unknown/no agent\n"
      ],
      "metadata": {
        "id": "HvLORSMnCsS1"
      }
    },
    {
      "cell_type": "code",
      "source": [
        "# Filling the missing/null observations in the 'country' column with 0\n",
        "\n",
        "hotel_booking['agent'].fillna(0,inplace = True)"
      ],
      "metadata": {
        "id": "VPxS6XtmK-45"
      },
      "execution_count": 12,
      "outputs": []
    },
    {
      "cell_type": "markdown",
      "source": [
        "### We are now left with only the 'company' column with missing/null values in it. \n",
        "### A whopping 112,593\trows or 94.31% of the total datset have missing values for the 'company' feature. With so much missing information, we can ignore this column altogether.\n",
        "### Therefore, i choose to drop the column 'company' from the dataset"
      ],
      "metadata": {
        "id": "hCywAWC0LSkG"
      }
    },
    {
      "cell_type": "code",
      "source": [
        "# Dropping the column 'company' from hotel_booking dataset\n",
        "\n",
        "hotel_booking.drop('company', axis=1, inplace=True)"
      ],
      "metadata": {
        "id": "FqLce5QlMf5a"
      },
      "execution_count": 13,
      "outputs": []
    },
    {
      "cell_type": "markdown",
      "source": [
        "### Let us quickly reconfirm the handling of missing values."
      ],
      "metadata": {
        "id": "jeL4bth6NH5H"
      }
    },
    {
      "cell_type": "code",
      "source": [
        "# Checking for missing/null values by calling the function for missing values\n",
        "\n",
        "missing()"
      ],
      "metadata": {
        "colab": {
          "base_uri": "https://localhost:8080/",
          "height": 35
        },
        "id": "hFDbZTAVN5Rj",
        "outputId": "3b328e20-39b2-4658-dee0-4991a5d898c5"
      },
      "execution_count": 14,
      "outputs": [
        {
          "output_type": "execute_result",
          "data": {
            "text/plain": [
              "'There are no missing/null values in the hotel_booking dataset'"
            ],
            "application/vnd.google.colaboratory.intrinsic+json": {
              "type": "string"
            }
          },
          "metadata": {},
          "execution_count": 14
        }
      ]
    },
    {
      "cell_type": "markdown",
      "source": [
        "## <b> Creating new columns"
      ],
      "metadata": {
        "id": "FFwtUTEdQ0yP"
      }
    },
    {
      "cell_type": "code",
      "source": [
        "# Creating a new column 'child' by combining the data from the columns 'children' and 'babies' \n",
        "\n",
        "hotel_booking['child'] = hotel_booking['children'] + hotel_booking['babies']"
      ],
      "metadata": {
        "id": "2WqYswPVCNjW"
      },
      "execution_count": 15,
      "outputs": []
    },
    {
      "cell_type": "markdown",
      "source": [
        "## <b> Outliers' Detection and  Handling "
      ],
      "metadata": {
        "id": "tTQYp7Ne1Rvo"
      }
    },
    {
      "cell_type": "markdown",
      "source": [
        "### Let us draw box plots for various columns to check for outliers"
      ],
      "metadata": {
        "id": "Wfdir0NX1W0G"
      }
    },
    {
      "cell_type": "code",
      "source": [
        "# Creating a list of columns that contain numerical data\n",
        "columns = ['lead_time', 'stays_in_weekend_nights', 'stays_in_week_nights', 'adults', 'child', 'previous_cancellations', \n",
        "           'previous_bookings_not_canceled', 'booking_changes', 'days_in_waiting_list', 'adr', \n",
        "           'required_car_parking_spaces', 'total_of_special_requests']\n",
        "\n",
        "# Setting the display figure size\n",
        "plt.figure(figsize=(20,15))\n",
        "\n",
        "n = 1\n",
        "\n",
        "# Creating boxplots for each of the column/features\n",
        "for col in columns:\n",
        "  plt.subplot(4,3,n)\n",
        "  n = n+1\n",
        "  sns.boxplot(hotel_booking[col])\n",
        "  "
      ],
      "metadata": {
        "colab": {
          "base_uri": "https://localhost:8080/",
          "height": 878
        },
        "id": "AUcm9ufP31K5",
        "outputId": "6c7f7958-531a-41af-d90d-0ad2625702f9"
      },
      "execution_count": 16,
      "outputs": [
        {
          "output_type": "display_data",
          "data": {
            "text/plain": [
              "<Figure size 1440x1080 with 12 Axes>"
            ],
            "image/png": "[encoded data removed]"
          },
          "metadata": {
            "needs_background": "light"
          }
        }
      ]
    },
    {
      "cell_type": "markdown",
      "source": [
        "### Let us handle the outliers in all these columns"
      ],
      "metadata": {
        "id": "tKXAqxSSELOX"
      }
    },
    {
      "cell_type": "code",
      "source": [
        "# Setting a value of 400 to all the observations of 'lead_time' that are greater than 400\n",
        "hotel_booking.loc[hotel_booking.lead_time > 400, 'lead_time'] = 400\n",
        "\n",
        "# Setting a value of 5 to all the observations of 'stays_in_weekend_nights' that are greater than 5\n",
        "hotel_booking.loc[hotel_booking.stays_in_weekend_nights > 5, 'stays_in_weekend_nights'] = 5\n",
        "\n",
        "# Setting a value of 10 to all the observations of 'stays_in_week_nights' that are greater than 10\n",
        "hotel_booking.loc[hotel_booking.stays_in_week_nights > 10, 'stays_in_week_nights'] = 10\n",
        "\n",
        "# Setting a value of 4 to all the observations of 'adults' that are greater than 4\n",
        "hotel_booking.loc[hotel_booking.adults > 4, 'adults'] = 4\n",
        "\n",
        "# Setting a value of 3 to all the observations of 'child' that are greater than 3\n",
        "hotel_booking.loc[hotel_booking.child > 3, 'child'] = 3\n",
        "\n",
        "# Setting a value of 1 to all the observations of 'previous_cancellations' that are greater than 0\n",
        "hotel_booking.loc[hotel_booking.previous_cancellations > 0, 'previous_cancellations'] = 1\n",
        "\n",
        "# Setting a value of 1 to all the observations of 'previous_bookings_not_canceled' that are greater than 0\n",
        "hotel_booking.loc[hotel_booking.previous_bookings_not_canceled > 0, 'previous_bookings_not_canceled'] = 1\n",
        "\n",
        "# Setting a value of 5 to all the observations of 'booking_changes' that are greater than 5\n",
        "hotel_booking.loc[hotel_booking.booking_changes > 5, 'booking_changes'] = 5\n",
        "\n",
        "# Setting a value of 200 to all the observations of 'days_in_waiting_list' that are greater than 200\n",
        "hotel_booking.loc[hotel_booking.days_in_waiting_list > 200, 'days_in_waiting_list'] = 200\n",
        "\n",
        "# Setting a value of 500 to all the observations of 'adr' that are greater than 500\n",
        "hotel_booking.loc[hotel_booking.adr > 500, 'adr'] = 500\n",
        "\n",
        "# Setting a value of 3 to all the observations of 'required_car_parking_spaces' that are greater than 3\n",
        "hotel_booking.loc[hotel_booking.required_car_parking_spaces > 3, 'required_car_parking_spaces'] = 3\n",
        "\n",
        "# Setting a value of 3 to all the observations of 'total_of_special_requests' that are greater than 3\n",
        "hotel_booking.loc[hotel_booking.total_of_special_requests > 3, 'total_of_special_requests'] = 3"
      ],
      "metadata": {
        "id": "0OMNItaCEXX4"
      },
      "execution_count": 17,
      "outputs": []
    },
    {
      "cell_type": "markdown",
      "source": [
        "## <b> Data Visualization and Exploration"
      ],
      "metadata": {
        "id": "8ricJECFN4Zn"
      }
    },
    {
      "cell_type": "markdown",
      "source": [
        "### Now that we have cleaned our data by handling missing values and outliers, let us explore the data and gain some useful insights about it. I shall start by comparing number of bookings made in Resort Hotels vis-a-vis City Hotels"
      ],
      "metadata": {
        "id": "VCfA9iTx42Ku"
      }
    },
    {
      "cell_type": "code",
      "source": [
        "# Creating a copy of the cleaned dataset\n",
        "\n",
        "df = hotel_booking.copy()"
      ],
      "metadata": {
        "id": "u5rFF88E732B"
      },
      "execution_count": 18,
      "outputs": []
    },
    {
      "cell_type": "code",
      "source": [
        "# Finding the count of each hotel type\n",
        "\n",
        "hotel_type = hotel_booking[\"hotel\"].value_counts()\n",
        "city_hotels = hotel_type[0]\n",
        "resort_hotels = hotel_type[1]\n",
        "\n",
        "# Printing the count of each hotel type\n",
        "\n",
        "print(\"The number of bookings for City Hotels are: \", city_hotels)\n",
        "print()\n",
        "print(\"The number of bookings for Resort Hotels are: \", resort_hotels)\n"
      ],
      "metadata": {
        "colab": {
          "base_uri": "https://localhost:8080/"
        },
        "id": "V8f9kqkDSidF",
        "outputId": "e7259ae9-19db-4f00-fef8-85709bb22b78"
      },
      "execution_count": null,
      "outputs": [
        {
          "output_type": "stream",
          "name": "stdout",
          "text": [
            "The number of bookings for City Hotels are:  79330\n",
            "\n",
            "The number of bookings for Resort Hotels are:  40060\n"
          ]
        }
      ]
    },
    {
      "cell_type": "code",
      "source": [
        "# Finding the count of each hotel type\n",
        "\n",
        "hotel_type = hotel_booking[\"hotel\"].value_counts()\n",
        "hotel_type"
      ],
      "metadata": {
        "colab": {
          "base_uri": "https://localhost:8080/"
        },
        "id": "3ST6FAYFPrtf",
        "outputId": "e8ff2e29-b8fc-4916-91ed-b390dfc292bb"
      },
      "execution_count": null,
      "outputs": [
        {
          "output_type": "execute_result",
          "data": {
            "text/plain": [
              "City Hotel      79330\n",
              "Resort Hotel    40060\n",
              "Name: hotel, dtype: int64"
            ]
          },
          "metadata": {},
          "execution_count": 186
        }
      ]
    },
    {
      "cell_type": "code",
      "source": [
        "# Bar plot to visualize bookings by hotel_type\n",
        "hotel_type.plot.bar(width = 0.4, color = ['teal', 'crimson'])\n",
        "\n",
        "# Giving title and labels to the plot\n",
        "plt.title('Bookings per Hotel type', fontsize = 20)\n",
        "plt.ylabel('Number of Bookings', fontsize = 15)\n",
        "plt.xlabel('Hotel type', fontsize = 15)\n",
        "plt.xticks(rotation = 'horizontal')\n",
        "\n",
        "# Setting the display figure size using rcParams method \n",
        "plt.rcParams['figure.figsize'] = (10, 6)\n"
      ],
      "metadata": {
        "colab": {
          "base_uri": "https://localhost:8080/",
          "height": 414
        },
        "id": "5F_2_9jf6U7I",
        "outputId": "c3145353-92a0-422b-cd4b-238b27139b6c"
      },
      "execution_count": null,
      "outputs": [
        {
          "output_type": "display_data",
          "data": {
            "text/plain": [
              "<Figure size 720x432 with 1 Axes>"
            ],
            "image/png": "[encoded data removed]"
          },
          "metadata": {
            "needs_background": "light"
          }
        }
      ]
    },
    {
      "cell_type": "markdown",
      "source": [
        "### The number of bookings in a City Hotel are roughly twice the number of bookings for Resort Hotel"
      ],
      "metadata": {
        "id": "SZG6DtQgGeoU"
      }
    },
    {
      "cell_type": "markdown",
      "source": [
        "### Next, let us visualize the number of confirmed bookings and cancelled bookings. "
      ],
      "metadata": {
        "id": "-oM3N0r1KoMe"
      }
    },
    {
      "cell_type": "code",
      "source": [
        "# Finding the count of booking cancellations\n",
        "\n",
        "cancellation = hotel_booking['is_canceled'].value_counts()\n",
        "cancellation"
      ],
      "metadata": {
        "colab": {
          "base_uri": "https://localhost:8080/"
        },
        "id": "0dez46CKo-2q",
        "outputId": "cfe4c9a5-1a2d-424b-c5bc-2a44645c31a6"
      },
      "execution_count": null,
      "outputs": [
        {
          "output_type": "execute_result",
          "data": {
            "text/plain": [
              "0    75166\n",
              "1    44224\n",
              "Name: is_canceled, dtype: int64"
            ]
          },
          "metadata": {},
          "execution_count": 255
        }
      ]
    },
    {
      "cell_type": "code",
      "source": [
        "# Bar plot to visualize confirmed bookings vs cancellations\n",
        "cancellation.plot.bar(width = 0.4, color = ['teal', 'crimson'])\n",
        "\n",
        "# Giving labels to the bar plot\n",
        "plt.ylabel('Number of Bookings', fontsize = 15)\n",
        "plt.xlabel('Booking type', fontsize = 15)\n",
        "plt.xticks(hotel_booking['is_canceled'].unique(), labels = ['Confirmed', 'Cancelled'], rotation = 'horizontal')\n",
        "\n",
        "# Setting the display figure size using rcParams method \n",
        "plt.rcParams['figure.figsize'] = (10, 6)\n"
      ],
      "metadata": {
        "colab": {
          "base_uri": "https://localhost:8080/",
          "height": 393
        },
        "id": "FkWkY-ISq_J3",
        "outputId": "00fdc2be-06cb-49e2-98a8-22c48fa8aa8d"
      },
      "execution_count": null,
      "outputs": [
        {
          "output_type": "display_data",
          "data": {
            "text/plain": [
              "<Figure size 720x432 with 1 Axes>"
            ],
            "image/png": "[encoded data removed]"
          },
          "metadata": {
            "needs_background": "light"
          }
        }
      ]
    },
    {
      "cell_type": "code",
      "source": [
        "# Normalizing the value count of 'is_canceled' data\n",
        "\n",
        "hotel_booking.is_canceled.value_counts(normalize=True)"
      ],
      "metadata": {
        "colab": {
          "base_uri": "https://localhost:8080/"
        },
        "id": "GXKHNTSH0U6F",
        "outputId": "19a3658a-308a-4c6c-d57c-f557108e1af4"
      },
      "execution_count": null,
      "outputs": [
        {
          "output_type": "execute_result",
          "data": {
            "text/plain": [
              "0    0.629584\n",
              "1    0.370416\n",
              "Name: is_canceled, dtype: float64"
            ]
          },
          "metadata": {},
          "execution_count": 260
        }
      ]
    },
    {
      "cell_type": "markdown",
      "source": [
        "### While 62.96% of the bookings have been confirmed, 37.04% of the bookings have been cancelled\n",
        "### Let us also check the cancellations vis-a-vis hotel type"
      ],
      "metadata": {
        "id": "mFJdAsqNzOoI"
      }
    },
    {
      "cell_type": "code",
      "source": [
        "# Grouping the 'hotel' by type and whether the booking 'is_cancelled'\n",
        "\n",
        "booking_cancelled = hotel_booking.groupby(['hotel','is_canceled'])['is_canceled'].count().unstack()\n",
        "booking_cancelled\n"
      ],
      "metadata": {
        "colab": {
          "base_uri": "https://localhost:8080/",
          "height": 143
        },
        "id": "1FwnePEmE_LS",
        "outputId": "d0f0763e-6aac-48f7-ef6c-e9854b770710"
      },
      "execution_count": null,
      "outputs": [
        {
          "output_type": "execute_result",
          "data": {
            "text/plain": [
              "is_canceled       0      1\n",
              "hotel                     \n",
              "City Hotel    46228  33102\n",
              "Resort Hotel  28938  11122"
            ],
            "text/html": [
              "\n",
              "  <div id=\"df-edfb9351-5861-4802-9676-fbcbd16e0b28\">\n",
              "    <div class=\"colab-df-container\">\n",
              "      <div>\n",
              "<style scoped>\n",
              "    .dataframe tbody tr th:only-of-type {\n",
              "        vertical-align: middle;\n",
              "    }\n",
              "\n",
              "    .dataframe tbody tr th {\n",
              "        vertical-align: top;\n",
              "    }\n",
              "\n",
              "    .dataframe thead th {\n",
              "        text-align: right;\n",
              "    }\n",
              "</style>\n",
              "<table border=\"1\" class=\"dataframe\">\n",
              "  <thead>\n",
              "    <tr style=\"text-align: right;\">\n",
              "      <th>is_canceled</th>\n",
              "      <th>0</th>\n",
              "      <th>1</th>\n",
              "    </tr>\n",
              "    <tr>\n",
              "      <th>hotel</th>\n",
              "      <th></th>\n",
              "      <th></th>\n",
              "    </tr>\n",
              "  </thead>\n",
              "  <tbody>\n",
              "    <tr>\n",
              "      <th>City Hotel</th>\n",
              "      <td>46228</td>\n",
              "      <td>33102</td>\n",
              "    </tr>\n",
              "    <tr>\n",
              "      <th>Resort Hotel</th>\n",
              "      <td>28938</td>\n",
              "      <td>11122</td>\n",
              "    </tr>\n",
              "  </tbody>\n",
              "</table>\n",
              "</div>\n",
              "      <button class=\"colab-df-convert\" onclick=\"convertToInteractive('df-edfb9351-5861-4802-9676-fbcbd16e0b28')\"\n",
              "              title=\"Convert this dataframe to an interactive table.\"\n",
              "              style=\"display:none;\">\n",
              "        \n",
              "  <svg xmlns=\"http://www.w3.org/2000/svg\" height=\"24px\"viewBox=\"0 0 24 24\"\n",
              "       width=\"24px\">\n",
              "    <path d=\"M0 0h24v24H0V0z\" fill=\"none\"/>\n",
              "    <path d=\"M18.56 5.44l.94 2.06.94-2.06 2.06-.94-2.06-.94-.94-2.06-.94 2.06-2.06.94zm-11 1L8.5 8.5l.94-2.06 2.06-.94-2.06-.94L8.5 2.5l-.94 2.06-2.06.94zm10 10l.94 2.06.94-2.06 2.06-.94-2.06-.94-.94-2.06-.94 2.06-2.06.94z\"/><path d=\"M17.41 7.96l-1.37-1.37c-.4-.4-.92-.59-1.43-.59-.52 0-1.04.2-1.43.59L10.3 9.45l-7.72 7.72c-.78.78-.78 2.05 0 2.83L4 21.41c.39.39.9.59 1.41.59.51 0 1.02-.2 1.41-.59l7.78-7.78 2.81-2.81c.8-.78.8-2.07 0-2.86zM5.41 20L4 18.59l7.72-7.72 1.47 1.35L5.41 20z\"/>\n",
              "  </svg>\n",
              "      </button>\n",
              "      \n",
              "  <style>\n",
              "    .colab-df-container {\n",
              "      display:flex;\n",
              "      flex-wrap:wrap;\n",
              "      gap: 12px;\n",
              "    }\n",
              "\n",
              "    .colab-df-convert {\n",
              "      background-color: #E8F0FE;\n",
              "      border: none;\n",
              "      border-radius: 50%;\n",
              "      cursor: pointer;\n",
              "      display: none;\n",
              "      fill: #1967D2;\n",
              "      height: 32px;\n",
              "      padding: 0 0 0 0;\n",
              "      width: 32px;\n",
              "    }\n",
              "\n",
              "    .colab-df-convert:hover {\n",
              "      background-color: #E2EBFA;\n",
              "      box-shadow: 0px 1px 2px rgba(60, 64, 67, 0.3), 0px 1px 3px 1px rgba(60, 64, 67, 0.15);\n",
              "      fill: #174EA6;\n",
              "    }\n",
              "\n",
              "    [theme=dark] .colab-df-convert {\n",
              "      background-color: #3B4455;\n",
              "      fill: #D2E3FC;\n",
              "    }\n",
              "\n",
              "    [theme=dark] .colab-df-convert:hover {\n",
              "      background-color: #434B5C;\n",
              "      box-shadow: 0px 1px 3px 1px rgba(0, 0, 0, 0.15);\n",
              "      filter: drop-shadow(0px 1px 2px rgba(0, 0, 0, 0.3));\n",
              "      fill: #FFFFFF;\n",
              "    }\n",
              "  </style>\n",
              "\n",
              "      <script>\n",
              "        const buttonEl =\n",
              "          document.querySelector('#df-edfb9351-5861-4802-9676-fbcbd16e0b28 button.colab-df-convert');\n",
              "        buttonEl.style.display =\n",
              "          google.colab.kernel.accessAllowed ? 'block' : 'none';\n",
              "\n",
              "        async function convertToInteractive(key) {\n",
              "          const element = document.querySelector('#df-edfb9351-5861-4802-9676-fbcbd16e0b28');\n",
              "          const dataTable =\n",
              "            await google.colab.kernel.invokeFunction('convertToInteractive',\n",
              "                                                     [key], {});\n",
              "          if (!dataTable) return;\n",
              "\n",
              "          const docLinkHtml = 'Like what you see? Visit the ' +\n",
              "            '<a target=\"_blank\" href=https://colab.research.google.com/notebooks/data_table.ipynb>data table notebook</a>'\n",
              "            + ' to learn more about interactive tables.';\n",
              "          element.innerHTML = '';\n",
              "          dataTable['output_type'] = 'display_data';\n",
              "          await google.colab.output.renderOutput(dataTable, element);\n",
              "          const docLink = document.createElement('div');\n",
              "          docLink.innerHTML = docLinkHtml;\n",
              "          element.appendChild(docLink);\n",
              "        }\n",
              "      </script>\n",
              "    </div>\n",
              "  </div>\n",
              "  "
            ]
          },
          "metadata": {},
          "execution_count": 188
        }
      ]
    },
    {
      "cell_type": "code",
      "source": [
        "# Stacked Bar plot to visualize booking cancellations by hotel_type\n",
        "booking_cancelled.plot( kind='bar', stacked=True, width = 0.4, color=['brown', 'tomato'])\n",
        "\n",
        "# Giving title, labels and legend to the plot\n",
        "plt.title('Booking Cancellations per Hotel type', fontsize = 20)\n",
        "plt.ylabel('Number of Bookings', fontsize = 15)\n",
        "plt.xlabel('Hotel type', fontsize = 15)\n",
        "plt.legend(['Not Cancelled', 'Cancelled'])\n",
        "plt.xticks(rotation = 'horizontal')\n",
        "\n",
        "# Setting the display figure size using rcParams method \n",
        "plt.rcParams['figure.figsize'] = (10, 6)\n"
      ],
      "metadata": {
        "colab": {
          "base_uri": "https://localhost:8080/",
          "height": 414
        },
        "id": "ZkAD9Vy2Q_kk",
        "outputId": "8c84fffb-bc40-48fd-db98-23a75df773d5"
      },
      "execution_count": null,
      "outputs": [
        {
          "output_type": "display_data",
          "data": {
            "text/plain": [
              "<Figure size 720x432 with 1 Axes>"
            ],
            "image/png": "[encoded data removed]"
          },
          "metadata": {
            "needs_background": "light"
          }
        }
      ]
    },
    {
      "cell_type": "markdown",
      "source": [
        "### From the stacked bar plot, we can clearly infer that the proportion of cancellations were higher in City Hotels as compared to Resort Hotels."
      ],
      "metadata": {
        "id": "rL3PXbvqOTx_"
      }
    },
    {
      "cell_type": "markdown",
      "source": [
        "### Now, let us explore lead time data."
      ],
      "metadata": {
        "id": "_nJHPMFGfc_M"
      }
    },
    {
      "cell_type": "code",
      "source": [
        "# Grouping the lead_time by hotel_type to find the mean lead_time (average time between booking and arrival) for each of the hotel types  \n",
        "\n",
        "mean_lead_time = hotel_booking.groupby(['hotel'])['lead_time'].mean() # we are taking mean of price\n",
        "mean_lead_time"
      ],
      "metadata": {
        "colab": {
          "base_uri": "https://localhost:8080/"
        },
        "id": "no2sxTPHJ6e_",
        "outputId": "d00c83cc-7059-4e7c-89be-069eda952983"
      },
      "execution_count": null,
      "outputs": [
        {
          "output_type": "execute_result",
          "data": {
            "text/plain": [
              "hotel\n",
              "City Hotel      108.054229\n",
              "Resort Hotel     92.431503\n",
              "Name: lead_time, dtype: float64"
            ]
          },
          "metadata": {},
          "execution_count": 262
        }
      ]
    },
    {
      "cell_type": "code",
      "source": [
        "# Bar plot to visualize mean lead time by hotel_type\n",
        "mean_lead_time.plot.bar(width = 0.4, color = ['teal', 'crimson'])\n",
        "\n",
        "# Giving title and labels to the plot\n",
        "plt.title('Mean Lead Time per Hotel type', fontsize = 20)\n",
        "plt.ylabel('Lead Time in Days', fontsize = 15)\n",
        "plt.xlabel('Hotel type', fontsize = 15)\n",
        "plt.xticks(rotation = 'horizontal')\n",
        "\n",
        "# Setting the display figure size using rcParams method \n",
        "plt.rcParams['figure.figsize'] = (10, 6)\n"
      ],
      "metadata": {
        "colab": {
          "base_uri": "https://localhost:8080/",
          "height": 414
        },
        "id": "G70BydGubCwG",
        "outputId": "243f1d52-2a1c-407c-c42a-c1173fd76eb6"
      },
      "execution_count": null,
      "outputs": [
        {
          "output_type": "display_data",
          "data": {
            "text/plain": [
              "<Figure size 720x432 with 1 Axes>"
            ],
            "image/png": "[encoded data removed]"
          },
          "metadata": {
            "needs_background": "light"
          }
        }
      ]
    },
    {
      "cell_type": "markdown",
      "source": [
        "### We find that the mean lead time for City Hotels (108.05 days) is higher than that of the Resort Hotels (92.43 days). It implies that customers do comparitively more advance booking for City Hotels than Resort Hotels"
      ],
      "metadata": {
        "id": "yfO0mZK0ecz-"
      }
    },
    {
      "cell_type": "markdown",
      "source": [
        "### Next, let us check the details of the travel period"
      ],
      "metadata": {
        "id": "xT74Bnwui2MR"
      }
    },
    {
      "cell_type": "code",
      "source": [
        "# Grouping the 'hotel' by type and 'arrival_date_year'\n",
        "\n",
        "booking_year = hotel_booking.groupby(['arrival_date_year','hotel'])['hotel'].count().unstack()\n",
        "booking_year\n"
      ],
      "metadata": {
        "id": "3loVqizBecRq",
        "colab": {
          "base_uri": "https://localhost:8080/",
          "height": 175
        },
        "outputId": "abc7da26-8123-4d82-bb4d-aa9cbc16873a"
      },
      "execution_count": null,
      "outputs": [
        {
          "output_type": "execute_result",
          "data": {
            "text/plain": [
              "hotel              City Hotel  Resort Hotel\n",
              "arrival_date_year                          \n",
              "2015                    13682          8314\n",
              "2016                    38140         18567\n",
              "2017                    27508         13179"
            ],
            "text/html": [
              "\n",
              "  <div id=\"df-7b9bb66b-25b2-4d8d-a867-9c5e8be8610d\">\n",
              "    <div class=\"colab-df-container\">\n",
              "      <div>\n",
              "<style scoped>\n",
              "    .dataframe tbody tr th:only-of-type {\n",
              "        vertical-align: middle;\n",
              "    }\n",
              "\n",
              "    .dataframe tbody tr th {\n",
              "        vertical-align: top;\n",
              "    }\n",
              "\n",
              "    .dataframe thead th {\n",
              "        text-align: right;\n",
              "    }\n",
              "</style>\n",
              "<table border=\"1\" class=\"dataframe\">\n",
              "  <thead>\n",
              "    <tr style=\"text-align: right;\">\n",
              "      <th>hotel</th>\n",
              "      <th>City Hotel</th>\n",
              "      <th>Resort Hotel</th>\n",
              "    </tr>\n",
              "    <tr>\n",
              "      <th>arrival_date_year</th>\n",
              "      <th></th>\n",
              "      <th></th>\n",
              "    </tr>\n",
              "  </thead>\n",
              "  <tbody>\n",
              "    <tr>\n",
              "      <th>2015</th>\n",
              "      <td>13682</td>\n",
              "      <td>8314</td>\n",
              "    </tr>\n",
              "    <tr>\n",
              "      <th>2016</th>\n",
              "      <td>38140</td>\n",
              "      <td>18567</td>\n",
              "    </tr>\n",
              "    <tr>\n",
              "      <th>2017</th>\n",
              "      <td>27508</td>\n",
              "      <td>13179</td>\n",
              "    </tr>\n",
              "  </tbody>\n",
              "</table>\n",
              "</div>\n",
              "      <button class=\"colab-df-convert\" onclick=\"convertToInteractive('df-7b9bb66b-25b2-4d8d-a867-9c5e8be8610d')\"\n",
              "              title=\"Convert this dataframe to an interactive table.\"\n",
              "              style=\"display:none;\">\n",
              "        \n",
              "  <svg xmlns=\"http://www.w3.org/2000/svg\" height=\"24px\"viewBox=\"0 0 24 24\"\n",
              "       width=\"24px\">\n",
              "    <path d=\"M0 0h24v24H0V0z\" fill=\"none\"/>\n",
              "    <path d=\"M18.56 5.44l.94 2.06.94-2.06 2.06-.94-2.06-.94-.94-2.06-.94 2.06-2.06.94zm-11 1L8.5 8.5l.94-2.06 2.06-.94-2.06-.94L8.5 2.5l-.94 2.06-2.06.94zm10 10l.94 2.06.94-2.06 2.06-.94-2.06-.94-.94-2.06-.94 2.06-2.06.94z\"/><path d=\"M17.41 7.96l-1.37-1.37c-.4-.4-.92-.59-1.43-.59-.52 0-1.04.2-1.43.59L10.3 9.45l-7.72 7.72c-.78.78-.78 2.05 0 2.83L4 21.41c.39.39.9.59 1.41.59.51 0 1.02-.2 1.41-.59l7.78-7.78 2.81-2.81c.8-.78.8-2.07 0-2.86zM5.41 20L4 18.59l7.72-7.72 1.47 1.35L5.41 20z\"/>\n",
              "  </svg>\n",
              "      </button>\n",
              "      \n",
              "  <style>\n",
              "    .colab-df-container {\n",
              "      display:flex;\n",
              "      flex-wrap:wrap;\n",
              "      gap: 12px;\n",
              "    }\n",
              "\n",
              "    .colab-df-convert {\n",
              "      background-color: #E8F0FE;\n",
              "      border: none;\n",
              "      border-radius: 50%;\n",
              "      cursor: pointer;\n",
              "      display: none;\n",
              "      fill: #1967D2;\n",
              "      height: 32px;\n",
              "      padding: 0 0 0 0;\n",
              "      width: 32px;\n",
              "    }\n",
              "\n",
              "    .colab-df-convert:hover {\n",
              "      background-color: #E2EBFA;\n",
              "      box-shadow: 0px 1px 2px rgba(60, 64, 67, 0.3), 0px 1px 3px 1px rgba(60, 64, 67, 0.15);\n",
              "      fill: #174EA6;\n",
              "    }\n",
              "\n",
              "    [theme=dark] .colab-df-convert {\n",
              "      background-color: #3B4455;\n",
              "      fill: #D2E3FC;\n",
              "    }\n",
              "\n",
              "    [theme=dark] .colab-df-convert:hover {\n",
              "      background-color: #434B5C;\n",
              "      box-shadow: 0px 1px 3px 1px rgba(0, 0, 0, 0.15);\n",
              "      filter: drop-shadow(0px 1px 2px rgba(0, 0, 0, 0.3));\n",
              "      fill: #FFFFFF;\n",
              "    }\n",
              "  </style>\n",
              "\n",
              "      <script>\n",
              "        const buttonEl =\n",
              "          document.querySelector('#df-7b9bb66b-25b2-4d8d-a867-9c5e8be8610d button.colab-df-convert');\n",
              "        buttonEl.style.display =\n",
              "          google.colab.kernel.accessAllowed ? 'block' : 'none';\n",
              "\n",
              "        async function convertToInteractive(key) {\n",
              "          const element = document.querySelector('#df-7b9bb66b-25b2-4d8d-a867-9c5e8be8610d');\n",
              "          const dataTable =\n",
              "            await google.colab.kernel.invokeFunction('convertToInteractive',\n",
              "                                                     [key], {});\n",
              "          if (!dataTable) return;\n",
              "\n",
              "          const docLinkHtml = 'Like what you see? Visit the ' +\n",
              "            '<a target=\"_blank\" href=https://colab.research.google.com/notebooks/data_table.ipynb>data table notebook</a>'\n",
              "            + ' to learn more about interactive tables.';\n",
              "          element.innerHTML = '';\n",
              "          dataTable['output_type'] = 'display_data';\n",
              "          await google.colab.output.renderOutput(dataTable, element);\n",
              "          const docLink = document.createElement('div');\n",
              "          docLink.innerHTML = docLinkHtml;\n",
              "          element.appendChild(docLink);\n",
              "        }\n",
              "      </script>\n",
              "    </div>\n",
              "  </div>\n",
              "  "
            ]
          },
          "metadata": {},
          "execution_count": 196
        }
      ]
    },
    {
      "cell_type": "code",
      "source": [
        "# Bar plot to visualize 'arrival_date_year' by hotel_type\n",
        "booking_year.plot.bar(width = 0.4, color=['teal', 'crimson'])\n",
        "\n",
        "# Giving title and labels to the plot\n",
        "plt.title('Arrival Year per Hotel type', fontsize = 20)\n",
        "plt.ylabel('Number of Bookings', fontsize = 15)\n",
        "plt.xlabel('Arrival Year', fontsize = 15)\n",
        "plt.xticks(rotation = 'horizontal')\n",
        "\n",
        "# Setting the display figure size using rcParams method \n",
        "plt.rcParams['figure.figsize'] = (10, 6)\n"
      ],
      "metadata": {
        "colab": {
          "base_uri": "https://localhost:8080/",
          "height": 414
        },
        "id": "GjJkpPPvjYz8",
        "outputId": "710b904c-6661-4a2c-ed12-b1ea95532ec8"
      },
      "execution_count": null,
      "outputs": [
        {
          "output_type": "display_data",
          "data": {
            "text/plain": [
              "<Figure size 720x432 with 1 Axes>"
            ],
            "image/png": "[encoded data removed]"
          },
          "metadata": {
            "needs_background": "light"
          }
        }
      ]
    },
    {
      "cell_type": "markdown",
      "source": [
        "### There were more guests in the year 2016 as compared to the other two years\n",
        "\n",
        "### 2016 was the year in which two major sporting events were held- Summer Olympics and FIFA World Cup. This could explain the higher number of hotel bookings in 2016 as compared to the following year"
      ],
      "metadata": {
        "id": "IdMyO_B1n3wq"
      }
    },
    {
      "cell_type": "code",
      "source": [
        "# Giving an order of months\n",
        "months = [\"January\", \"February\", \"March\", \"April\", \"May\", \"June\", \"July\", \"August\", \"September\", \"October\", \"November\", \"December\"]\n",
        "\n",
        "# Grouping the bookings by 'arrival_date_month' and sorting the index by months\n",
        "booking_month = hotel_booking.groupby(\"arrival_date_month\")[\"arrival_date_month\"].count().reindex(months)"
      ],
      "metadata": {
        "id": "Ld8qXR9UkyHr"
      },
      "execution_count": 19,
      "outputs": []
    },
    {
      "cell_type": "code",
      "source": [
        "# Bar plot to visualize bookings by 'arrival_date_month' after sorting the order of months\n",
        "booking_month.plot.bar(width = 0.8, color = ['steelblue'])\n",
        "\n",
        "# Giving title and labels to the plot\n",
        "plt.title('Arrival by Month', fontsize = 20)\n",
        "plt.ylabel('Number of Bookings', fontsize = 15)\n",
        "plt.xlabel('Months', fontsize = 15)\n",
        "\n",
        "# Setting the display figure size using rcParams method \n",
        "plt.rcParams['figure.figsize'] = (10, 6)\n"
      ],
      "metadata": {
        "colab": {
          "base_uri": "https://localhost:8080/",
          "height": 459
        },
        "id": "5kpqvlKtqps3",
        "outputId": "264d3c8a-e0e3-4ae9-b5d5-1dfdd14c6fe1"
      },
      "execution_count": 27,
      "outputs": [
        {
          "output_type": "display_data",
          "data": {
            "text/plain": [
              "<Figure size 720x432 with 1 Axes>"
            ],
            "image/png": "[encoded data removed]"
          },
          "metadata": {
            "needs_background": "light"
          }
        }
      ]
    },
    {
      "cell_type": "markdown",
      "source": [
        "### The highest number of hotel bookings is for the month of August, followed by July and May. \n",
        "\n",
        "### There are lower bookings for the period November - February\n",
        "\n",
        "### We do not know the base location (country/region) of the Hotels in our dataset. Therefore, we cannot conclusively attribute any specific reasons for variation in bookings by month. But as pointed out earlier, Summer Olympics were held in August of 2016. This could be a plausible reason for high hotel bookings in the months of July and August\n",
        "\n"
      ],
      "metadata": {
        "id": "1pVqgqV8xIbW"
      }
    },
    {
      "cell_type": "code",
      "source": [
        "# Grouping the bookings by 'arrival_date_day_of_month'\n",
        "\n",
        "booking_date = hotel_booking.groupby('arrival_date_day_of_month')['arrival_date_day_of_month'].count()"
      ],
      "metadata": {
        "id": "9GK8uVtHzxFd"
      },
      "execution_count": null,
      "outputs": []
    },
    {
      "cell_type": "code",
      "source": [
        "# A simple line plot to visualize bookings by 'arrival_date_day_of_month'\n",
        "booking_date.plot()\n",
        "\n",
        "# Giving title and labels to the plot\n",
        "plt.title('Arrival by Date', fontsize = 20)\n",
        "plt.ylabel('Number of Bookings', fontsize = 15)\n",
        "plt.xlabel('Day of Month', fontsize = 15)\n",
        "\n",
        "# Setting the display figure size using rcParams method \n",
        "plt.rcParams['figure.figsize'] = (10, 6)"
      ],
      "metadata": {
        "colab": {
          "base_uri": "https://localhost:8080/",
          "height": 414
        },
        "id": "yJTMdb4q0ZUQ",
        "outputId": "6ffbd30a-47ec-4d17-8bb2-5827c32c73f3"
      },
      "execution_count": null,
      "outputs": [
        {
          "output_type": "display_data",
          "data": {
            "text/plain": [
              "<Figure size 720x432 with 1 Axes>"
            ],
            "image/png": "[encoded data removed]"
          },
          "metadata": {
            "needs_background": "light"
          }
        }
      ]
    },
    {
      "cell_type": "markdown",
      "source": [
        "### It seems like the guests do not have any specific preference for travel dates in a month"
      ],
      "metadata": {
        "id": "qUC90qgq7IuC"
      }
    },
    {
      "cell_type": "markdown",
      "source": [
        "### Now, let us find the country of origin of the guests"
      ],
      "metadata": {
        "id": "_6LuizUBO9CI"
      }
    },
    {
      "cell_type": "code",
      "source": [
        "# Finding top 10 countries by number of guest bookings\n",
        "\n",
        "# Finding the count for each of the unique values in 'country' column and arranging it in descending order\n",
        "top_countries = hotel_booking['country'].value_counts().sort_values(ascending=False)[:10]\n",
        "\n",
        "# Printing the list of top 5 countries\n",
        "print(\"The top 5 Countries by number of guest bookings are: \", list(top_countries.index[0:5]))\n",
        "print() \n",
        "\n",
        "# Printing the number of bookings made by guests of top 10 countries\n",
        "top_countries\n"
      ],
      "metadata": {
        "colab": {
          "base_uri": "https://localhost:8080/"
        },
        "id": "TjyKZd_dH6iX",
        "outputId": "25bc818c-d69f-4ac7-cebc-40de29fca263"
      },
      "execution_count": 28,
      "outputs": [
        {
          "output_type": "stream",
          "name": "stdout",
          "text": [
            "The top 5 Countries by number of guest bookings are:  ['PRT', 'GBR', 'FRA', 'ESP', 'DEU']\n",
            "\n"
          ]
        },
        {
          "output_type": "execute_result",
          "data": {
            "text/plain": [
              "PRT    48590\n",
              "GBR    12129\n",
              "FRA    10415\n",
              "ESP     8568\n",
              "DEU     7287\n",
              "ITA     3766\n",
              "IRL     3375\n",
              "BEL     2342\n",
              "BRA     2224\n",
              "NLD     2104\n",
              "Name: country, dtype: int64"
            ]
          },
          "metadata": {},
          "execution_count": 28
        }
      ]
    },
    {
      "cell_type": "code",
      "source": [
        "# Bar plot to visualize number of bookings made by top 10 countries\n",
        "top_countries.plot.bar(width = 0.5, color = ['steelblue'])\n",
        "\n",
        "# Giving title and labels to the plot\n",
        "plt.title('Top Countries by Number of Guests', fontsize = 20)\n",
        "plt.ylabel('Number of Bookings', fontsize = 15)\n",
        "plt.xlabel('Country', fontsize = 15)\n",
        "plt.xticks(rotation = 'horizontal')\n",
        "\n",
        "# Setting the display figure size\n",
        "plt.figure(figsize=(10,6))\n"
      ],
      "metadata": {
        "colab": {
          "base_uri": "https://localhost:8080/",
          "height": 449
        },
        "id": "i7xAecGyImk7",
        "outputId": "6cd322b2-a46e-4723-b6e6-d5c08458fb0b"
      },
      "execution_count": 39,
      "outputs": [
        {
          "output_type": "execute_result",
          "data": {
            "text/plain": [
              "<Figure size 720x432 with 0 Axes>"
            ]
          },
          "metadata": {},
          "execution_count": 39
        },
        {
          "output_type": "display_data",
          "data": {
            "text/plain": [
              "<Figure size 720x432 with 1 Axes>"
            ],
            "image/png": "[encoded data removed]"
          },
          "metadata": {
            "needs_background": "light"
          }
        },
        {
          "output_type": "display_data",
          "data": {
            "text/plain": [
              "<Figure size 720x432 with 0 Axes>"
            ]
          },
          "metadata": {}
        }
      ]
    },
    {
      "cell_type": "markdown",
      "source": [
        "### The countries of origin of the highest number of guests' are:\n",
        "### * Portugal [PRT]\n",
        "### * Great Britain [GBR]\n",
        "### * France [FRA]\n",
        "### * Spain [ESP]\n",
        "### * Germany [DEU]"
      ],
      "metadata": {
        "id": "pFO4t18qOWpg"
      }
    },
    {
      "cell_type": "markdown",
      "source": [
        "### Let us check the type of hotel booked by the guests belonging to the top 10 countries (by booking)"
      ],
      "metadata": {
        "id": "zoh9VwPsLWWp"
      }
    },
    {
      "cell_type": "code",
      "source": [
        "# Bar plot to visualize type of hotel bookings made by guests belonging to top 10 countries\n",
        "sns.countplot(x='country', hue='hotel', data=hotel_booking[hotel_booking['country'].isin(top_countries.index)])\n",
        "\n",
        "# Giving title and labels to the plot\n",
        "plt.xlabel(\"Country\", fontsize = 15)\n",
        "plt.ylabel(\"No. of Bookings\", fontsize = 15)\n",
        "plt.title(\"Booked Hotel type by Country\", fontsize = 20)\n",
        "\n",
        "# Setting the display figure size\n",
        "plt.figure(figsize=(10,6))\n"
      ],
      "metadata": {
        "colab": {
          "base_uri": "https://localhost:8080/",
          "height": 449
        },
        "id": "qLJpix_jCSNR",
        "outputId": "d9be0dad-5e7d-4fb4-f619-2389d6b44cb3"
      },
      "execution_count": 38,
      "outputs": [
        {
          "output_type": "execute_result",
          "data": {
            "text/plain": [
              "<Figure size 720x432 with 0 Axes>"
            ]
          },
          "metadata": {},
          "execution_count": 38
        },
        {
          "output_type": "display_data",
          "data": {
            "text/plain": [
              "<Figure size 720x432 with 1 Axes>"
            ],
            "image/png": "[encoded data removed]"
          },
          "metadata": {
            "needs_background": "light"
          }
        },
        {
          "output_type": "display_data",
          "data": {
            "text/plain": [
              "<Figure size 720x432 with 0 Axes>"
            ]
          },
          "metadata": {}
        }
      ]
    },
    {
      "cell_type": "markdown",
      "source": [
        "### The general trend is that more guests prefered to book City Hotels rather than Resort Hotels.\n",
        "\n",
        "### Among the top 10 countries by booking, only the guests belonging to Great Britain and Ireland have preferred to book Resort hotels over City Hotels"
      ],
      "metadata": {
        "id": "ce3VjibGLzwh"
      }
    },
    {
      "cell_type": "markdown",
      "source": [
        "### Next, let us check bookings by Market Segment"
      ],
      "metadata": {
        "id": "Nro-65-UNVup"
      }
    },
    {
      "cell_type": "code",
      "source": [
        "# Finding the value count of the unique values in 'market_segment'\n",
        "\n",
        "booking_market_segment = hotel_booking['market_segment'].value_counts()\n",
        "booking_market_segment"
      ],
      "metadata": {
        "colab": {
          "base_uri": "https://localhost:8080/"
        },
        "id": "PumWqjQ2OTtj",
        "outputId": "80da5536-88ae-4018-ff65-c994356d5f16"
      },
      "execution_count": 40,
      "outputs": [
        {
          "output_type": "execute_result",
          "data": {
            "text/plain": [
              "Online TA        56477\n",
              "Offline TA/TO    24219\n",
              "Groups           19811\n",
              "Direct           12606\n",
              "Corporate         5295\n",
              "Complementary      743\n",
              "Aviation           237\n",
              "Undefined            2\n",
              "Name: market_segment, dtype: int64"
            ]
          },
          "metadata": {},
          "execution_count": 40
        }
      ]
    },
    {
      "cell_type": "code",
      "source": [
        "# Plotting a Pie Chart to show bookings by various market segments\n",
        "p = plt.pie(booking_market_segment, labels = booking_market_segment.index, autopct = \"%.0f%%\")\n",
        "\n",
        "# Giving a title and legend to the plot\n",
        "plt.title(\"Bookings by Market Segment\", fontsize = 15)\n",
        "plt.legend(loc ='top right', bbox_to_anchor = (1, 0, 0.5, 1))\n",
        "\n",
        "# Setting the display figure size\n",
        "plt.figure(figsize = (40,20))\n"
      ],
      "metadata": {
        "colab": {
          "base_uri": "https://localhost:8080/",
          "height": 410
        },
        "id": "tmTXb33qK3_9",
        "outputId": "14c0371d-c733-485e-fddf-0e5b3d53d86c"
      },
      "execution_count": 66,
      "outputs": [
        {
          "output_type": "execute_result",
          "data": {
            "text/plain": [
              "<Figure size 2880x1440 with 0 Axes>"
            ]
          },
          "metadata": {},
          "execution_count": 66
        },
        {
          "output_type": "display_data",
          "data": {
            "text/plain": [
              "<Figure size 720x432 with 1 Axes>"
            ],
            "image/png": "[encoded data removed]"
          },
          "metadata": {}
        },
        {
          "output_type": "display_data",
          "data": {
            "text/plain": [
              "<Figure size 2880x1440 with 0 Axes>"
            ]
          },
          "metadata": {}
        }
      ]
    },
    {
      "cell_type": "markdown",
      "source": [
        "### About half the number of total bookings by market segment are made by the Online Travel Agents\n",
        "\n",
        "### The highest number of bookings by market segment are made through:\n",
        "\n",
        "### * Online TA      (47%)\n",
        "### * Offline TA/TO  (20%)\n",
        "### * Groups         (17%)\n",
        "\n",
        "### Together they constitute 84% of the total bookings"
      ],
      "metadata": {
        "id": "aPPU6x3gW7k9"
      }
    },
    {
      "cell_type": "markdown",
      "source": [
        "### Let us also check bookings by Distribution Channel"
      ],
      "metadata": {
        "id": "uhW-7VdqgE6T"
      }
    },
    {
      "cell_type": "code",
      "source": [
        "# Finding the value count of the unique values in 'distribution_channel'\n",
        "\n",
        "booking_distribution_channel = hotel_booking['distribution_channel'].value_counts()\n",
        "booking_distribution_channel"
      ],
      "metadata": {
        "colab": {
          "base_uri": "https://localhost:8080/"
        },
        "id": "csLXZUwngOqW",
        "outputId": "46a21fe9-9256-403d-8668-f890f2ac3d84"
      },
      "execution_count": 67,
      "outputs": [
        {
          "output_type": "execute_result",
          "data": {
            "text/plain": [
              "TA/TO        97870\n",
              "Direct       14645\n",
              "Corporate     6677\n",
              "GDS            193\n",
              "Undefined        5\n",
              "Name: distribution_channel, dtype: int64"
            ]
          },
          "metadata": {},
          "execution_count": 67
        }
      ]
    },
    {
      "cell_type": "code",
      "source": [
        "# Plotting a Pie Chart to show bookings made through various distribution channels\n",
        "p = plt.pie(booking_distribution_channel, labels = booking_distribution_channel.index, autopct = \"%.0f%%\")\n",
        "\n",
        "# Giving a title and legend to the plot\n",
        "plt.title(\"Bookings by Distribution Channel\", fontsize = 15)\n",
        "plt.legend(loc ='top right', bbox_to_anchor = (1, 0, 0.5, 1))\n",
        "\n",
        "# Setting the display figure size\n",
        "plt.figure(figsize = (40,20))\n"
      ],
      "metadata": {
        "colab": {
          "base_uri": "https://localhost:8080/",
          "height": 410
        },
        "id": "Oe8Zxzwugg-q",
        "outputId": "a661b5bd-1b8e-4557-854f-8e0733b89cd2"
      },
      "execution_count": 68,
      "outputs": [
        {
          "output_type": "execute_result",
          "data": {
            "text/plain": [
              "<Figure size 2880x1440 with 0 Axes>"
            ]
          },
          "metadata": {},
          "execution_count": 68
        },
        {
          "output_type": "display_data",
          "data": {
            "text/plain": [
              "<Figure size 720x432 with 1 Axes>"
            ],
            "image/png": "[encoded data removed]"
          },
          "metadata": {}
        },
        {
          "output_type": "display_data",
          "data": {
            "text/plain": [
              "<Figure size 2880x1440 with 0 Axes>"
            ]
          },
          "metadata": {}
        }
      ]
    },
    {
      "cell_type": "markdown",
      "source": [
        "### Majority of bookings (82%) were done through the distribution channels of TA/TO (travel agents and tour operators).\n",
        "\n"
      ],
      "metadata": {
        "id": "bubiUCh4g6wo"
      }
    },
    {
      "cell_type": "markdown",
      "source": [
        "### Let us see the quantum of bookings that have been made along with the provision of meals and the various meal types on offer."
      ],
      "metadata": {
        "id": "xl087bHShSdu"
      }
    },
    {
      "cell_type": "code",
      "source": [
        "# Finding the value count of the unique values in 'meal'\n",
        "\n",
        "meal_type = hotel_booking['meal'].value_counts()\n",
        "meal_type"
      ],
      "metadata": {
        "colab": {
          "base_uri": "https://localhost:8080/"
        },
        "id": "ZQNQ7sF5hwHF",
        "outputId": "dfb6c9b2-0cde-4ac6-aaf9-672bd673c85a"
      },
      "execution_count": 69,
      "outputs": [
        {
          "output_type": "execute_result",
          "data": {
            "text/plain": [
              "BB           92310\n",
              "HB           14463\n",
              "SC           10650\n",
              "Undefined     1169\n",
              "FB             798\n",
              "Name: meal, dtype: int64"
            ]
          },
          "metadata": {},
          "execution_count": 69
        }
      ]
    },
    {
      "cell_type": "code",
      "source": [
        "# Plotting a Pie Chart to show bookings made along with the provision of meals\n",
        "p = plt.pie(meal_type, labels = meal_type.index, autopct = \"%.0f%%\")\n",
        "\n",
        "# Giving a title and legend to the plot\n",
        "plt.title(\"Bookings with Meals and different Meal types\", fontsize = 15)\n",
        "plt.legend(loc ='top right', bbox_to_anchor = (1, 0, 0.5, 1))\n",
        "\n",
        "# Setting the display figure size\n",
        "plt.figure(figsize = (40,20))"
      ],
      "metadata": {
        "colab": {
          "base_uri": "https://localhost:8080/",
          "height": 410
        },
        "id": "pPie4xIfiZJw",
        "outputId": "28140394-61c1-4f1a-c57b-c5ad6dc79a43"
      },
      "execution_count": 70,
      "outputs": [
        {
          "output_type": "execute_result",
          "data": {
            "text/plain": [
              "<Figure size 2880x1440 with 0 Axes>"
            ]
          },
          "metadata": {},
          "execution_count": 70
        },
        {
          "output_type": "display_data",
          "data": {
            "text/plain": [
              "<Figure size 720x432 with 1 Axes>"
            ],
            "image/png": "[encoded data removed]"
          },
          "metadata": {}
        },
        {
          "output_type": "display_data",
          "data": {
            "text/plain": [
              "<Figure size 2880x1440 with 0 Axes>"
            ]
          },
          "metadata": {}
        }
      ]
    },
    {
      "cell_type": "markdown",
      "source": [
        "### Majority of the guests (77%) have made their hotel bookings along with the BB (Bed and Breakfast) provision.\n",
        "\n",
        "### Only 10% of the guests have not opted for meals (SC/ Undefined).\n",
        "\n",
        "\n"
      ],
      "metadata": {
        "id": "XyDpheHojFBR"
      }
    },
    {
      "cell_type": "markdown",
      "source": [
        "### Now let us analyse one of the most important parameters in the Hotel industry - the ADR (Average Daily Rate)\n",
        "\n",
        "### ADR is a measure of the average rental revenue earned for an occupied room per day"
      ],
      "metadata": {
        "id": "AiP2_hSwkat8"
      }
    },
    {
      "cell_type": "code",
      "source": [
        "# Checking the statistical values of the 'adr'\n",
        "\n",
        "hotel_booking['adr'].describe()"
      ],
      "metadata": {
        "colab": {
          "base_uri": "https://localhost:8080/"
        },
        "id": "EHP-ax-0mDqk",
        "outputId": "2a236a56-11b4-4856-d250-0c000190ed5e"
      },
      "execution_count": 71,
      "outputs": [
        {
          "output_type": "execute_result",
          "data": {
            "text/plain": [
              "count    119390.000000\n",
              "mean        101.789929\n",
              "std          48.165881\n",
              "min          -6.380000\n",
              "25%          69.290000\n",
              "50%          94.575000\n",
              "75%         126.000000\n",
              "max         500.000000\n",
              "Name: adr, dtype: float64"
            ]
          },
          "metadata": {},
          "execution_count": 71
        }
      ]
    },
    {
      "cell_type": "markdown",
      "source": [
        ""
      ],
      "metadata": {
        "id": "IhfcgTjUl7_C"
      }
    }
  ]
}